{
 "cells": [
  {
   "cell_type": "markdown",
   "metadata": {
    "tags": []
   },
   "source": [
    "# Loops and flow control\n",
    "\n",
    "Having leaned about various data types and operations, we can begin to consider some actual programming. Computers are very good at doing a large number of repeated calculations. Loops provide a means for specifying these repeated calculations. Flow control directs a programme to perform different computations depending on the values of data.\n",
    "\n",
    "## For loops\n",
    "\n",
    "`For loops` are used when you have a block of code that you want to repeat a fixed number of times. `For loops`\n",
    "iterate over elements of a sequence in order, executing the block each time. \n",
    "\n",
    "```\n",
    "for element in sequence:\n",
    "    block of code indented by 4 spaces\n",
    "```\n",
    "Jupyterlab will indent the code block automatically once it sees the colon `:` at the end of the `for` statement. If you forget the colon, Jupyterlab will not indent the code and if you run the cell, Python will flag an error.\n",
    "\n",
    "For loops with sequences of integers are extremely common in numerical computing. In this case the loop variable is an integer such as i, k or n and we commonly refer to this variable as a **loop index** or **loop counter**.\n",
    "\n",
    "We start with a simple example"
   ]
  },
  {
   "cell_type": "code",
   "execution_count": null,
   "metadata": {},
   "outputs": [],
   "source": [
    "# range(5) produces numbers from 0 to 4\n",
    "# the integer i is the loop index or loop counter.\n",
    "x = 0\n",
    "for i in range(5):\n",
    "    x += i\n",
    "    print(\"i =\", i, \", x =\", x)"
   ]
  },
  {
   "cell_type": "markdown",
   "metadata": {},
   "source": [
    "\n",
    "---\n",
    "A less artificial example is provided by our first Python code for approximating $\\pi$. Recall"
   ]
  },
  {
   "cell_type": "code",
   "execution_count": null,
   "metadata": {},
   "outputs": [],
   "source": [
    "# Python code to approximate pi using a finite number of terms in the Leibniz formula\n",
    "\n",
    "N = 10000\n",
    "total = 0.0\n",
    "for k in range(N):\n",
    "    total += (-1) ** k / (2 * k + 1)\n",
    "\n",
    "my_pi = 4 * total\n",
    "print(\"The estimate for pi using\", N, \"terms in the Leibniz formula is\", my_pi)"
   ]
  },
  {
   "cell_type": "markdown",
   "metadata": {},
   "source": [
    "We have now covered all the Python necessary to understand everything in this little Python code. \n",
    "\n",
    "**Exercise:** Delete the colon `:` at the end of the `for` line in the code above and run the cell. It is useful to see some error messages. You are not told what specifically is wrong, but you are shown where the problem is. Fix the code and run again. Now delete the spaces preceding `total += `... so that the line is not indented. Run; observe the error message; **fix this by using the tab key, not spaces**. Rerun."
   ]
  },
  {
   "cell_type": "markdown",
   "metadata": {},
   "source": [
    "---\n",
    "For loops need not start at zero and need not take steps of size one."
   ]
  },
  {
   "cell_type": "code",
   "execution_count": null,
   "metadata": {},
   "outputs": [],
   "source": [
    "x = 0\n",
    "for i in range(2,12,2):\n",
    "    x += i\n",
    "    print(\"i =\", i, \", x =\", x)"
   ]
  },
  {
   "cell_type": "markdown",
   "metadata": {},
   "source": [
    "**Exercise:** Try changing the start, stop, and step values in the cell above. In particular, try negative values of step. (While negative values of step are less frequent than positive values, negative steps are reasonably common in applications.)\n",
    "\n",
    "---\n",
    "\n",
    "Often one **nests** loops, that is puts one loop within another.\n",
    "Here is an artificial example that nevertheless illustrates nesting of loops.\n",
    "- The m loop is the **outer loop**.\n",
    "- The n loop is in **inner loop**."
   ]
  },
  {
   "cell_type": "code",
   "execution_count": null,
   "metadata": {},
   "outputs": [],
   "source": [
    "M = 2\n",
    "N = 4\n",
    "for m in range(M):\n",
    "    for n in range(N):\n",
    "        print(\"m*n is\", m*n)\n",
    "        "
   ]
  },
  {
   "cell_type": "markdown",
   "metadata": {},
   "source": [
    "---\n",
    "While our main interest is in cases where the loop index is an integer, you can actually loop over any list."
   ]
  },
  {
   "cell_type": "code",
   "execution_count": null,
   "metadata": {},
   "outputs": [],
   "source": [
    "color_list = [\"red\", \"green\", \"blue\"]\n",
    "for color in color_list:\n",
    "    print(color)"
   ]
  },
  {
   "cell_type": "markdown",
   "metadata": {},
   "source": [
    "and with nesting"
   ]
  },
  {
   "cell_type": "code",
   "execution_count": null,
   "metadata": {},
   "outputs": [],
   "source": [
    "color_list = [\"red\", \"green\", \"blue\"]\n",
    "intensity_list = [0., 0.25, 0.5, 0.75, 1.0]\n",
    "\n",
    "for color in color_list:\n",
    "    for i in intensity_list:\n",
    "        print(\"intensity\", i, \", color\", color)"
   ]
  },
  {
   "cell_type": "markdown",
   "metadata": {},
   "source": [
    "Think about how many times the code in the inner loop is executed. Here that code is only a print statement, but in real-word examples it could be a substantial computation. Now think about what happens when you start nesting more and more loops. Computations can become expensive! If you want, try increasing the value of $N$ in the cell below. However, if you run it with N=100 for example, you will need to interrupt the kernel (found in the Kernel menu or by typing the letter `i` twice)."
   ]
  },
  {
   "cell_type": "code",
   "execution_count": null,
   "metadata": {},
   "outputs": [],
   "source": [
    "N = 5\n",
    "a = 0\n",
    "for i in range(N):\n",
    "    for k in range(N):\n",
    "        for m in range(N):\n",
    "            for n in range(N):\n",
    "                a += i*k*m*n\n",
    "                \n",
    "print(a)"
   ]
  },
  {
   "cell_type": "markdown",
   "metadata": {},
   "source": [
    "---\n",
    "## While loops\n",
    "\n",
    "You can also build loops with the `while` command \n",
    "``` \n",
    "while expression:\n",
    "    code block\n",
    "```\n",
    "\n",
    "The code block is executed as long as `expression` is `True`.\n",
    "\n",
    "The basic distinction between `for` and `while` loops is \n",
    "\n",
    "- One uses `for` loops for repeated computation over a set of circumstances known at the beginning of the loop. \n",
    "- One uses `while` loops when the number of repetitions is not known in advance, but depends on the calculations within the loop. \n",
    "\n",
    "(This distinction is not strict, but it is a good way to think about the basic difference between the two cases.)\n",
    "\n",
    "Searches are good examples where `while` loops are natural, as in this example"
   ]
  },
  {
   "cell_type": "code",
   "execution_count": null,
   "metadata": {},
   "outputs": [],
   "source": [
    "# Find the smallest integer k >= 1 such that k**3 > 1903\n",
    "k = 1\n",
    "while k**3 < 1903:\n",
    "    k += 1\n",
    "    \n",
    "print(\"The smallest integer such that k**3 > 1903 is\", k)\n",
    "print(\"k^3 =\", k**3)"
   ]
  },
  {
   "cell_type": "markdown",
   "metadata": {},
   "source": [
    "---\n",
    "**Warning:** It is possible, even easy, to make a mistake and write while loops that never terminate. If you run the cell below with $n<0$ you will need to interrupt the kernel to stop it."
   ]
  },
  {
   "cell_type": "code",
   "execution_count": null,
   "metadata": {},
   "outputs": [],
   "source": [
    "# Warning -- if n < 0 the while loops that never terminates\n",
    "k = 1\n",
    "n = 3\n",
    "\n",
    "while ( k**n < 1903):\n",
    "   k += 1\n",
    "\n",
    "print(k)"
   ]
  },
  {
   "cell_type": "markdown",
   "metadata": {},
   "source": [
    "---\n",
    "## Flow control: if, elif, else\n",
    "\n",
    "`if`, `elif`, `else` provide a way of controlling the execution of a programme depending on values generated by the programme. `elif` is short for \"else if\".  Recall the conditional operators: `== `(are they equal?), `!=` (are they not equal?), `>`, `<`, `<=`, `>=`, etc, as well as `and`, `or`, and `not`.  Given these conditional operators, implementing flow control is easy\n",
    "\n",
    "```\n",
    "if expression1:\n",
    "   code block 1\n",
    "elif expression2:\n",
    "   code block 2\n",
    "else:\n",
    "   code block 3\n",
    "other code\n",
    "```\n",
    "\n",
    "`expression1` and `expression2` are Boolean so either `True` or `False`.\n",
    "\n",
    "- If `expression1` is `True` then `code block 1` is executed after which execution jumps to `other code`. \n",
    "- Otherwise if `expression2` is `True` then `code block 2` is executed after which execution jumps to `other code`. \n",
    "- Otherwise `code block 3` is executed after which execution continues to `other code`. \n",
    "\n",
    "There can be any number of `elif` cases, including none. There can be at most one `else`, but there may be none. \n",
    "\n",
    "---\n",
    "It is best to consider examples. Run the cell below with different values of $n$. Observe and understand the output. "
   ]
  },
  {
   "cell_type": "code",
   "execution_count": null,
   "metadata": {},
   "outputs": [],
   "source": [
    "# set integer n and then make some decisions based on n\n",
    "n = -1\n",
    "\n",
    "if n < 0:\n",
    "    n = 0\n",
    "    print('Negative n changed to zero')\n",
    "elif n == 0:\n",
    "    print('n is zero')\n",
    "elif n == 1:\n",
    "    print('n is one')\n",
    "elif n == 2:\n",
    "    print('n is two')\n",
    "else:\n",
    "    print('n is many (more than two)')"
   ]
  },
  {
   "cell_type": "markdown",
   "metadata": {},
   "source": [
    "---\n",
    "Example: changing the sign of all negative entries in a list"
   ]
  },
  {
   "cell_type": "code",
   "execution_count": null,
   "metadata": {},
   "outputs": [],
   "source": [
    "my_list = [-4, 6, 12, -20, 1]\n",
    "\n",
    "for k in range(len(my_list)):\n",
    "    if my_list[k] < 0:\n",
    "        my_list[k] *= -1\n",
    "\n",
    "print(my_list)"
   ]
  },
  {
   "cell_type": "markdown",
   "metadata": {},
   "source": [
    "---\n",
    "Example: Compare two lists and take action based on the comparison. Before running the cell, think about what the output will be. "
   ]
  },
  {
   "cell_type": "code",
   "execution_count": null,
   "metadata": {},
   "outputs": [],
   "source": [
    "list_A = [5, 27, -15, 6, 40]\n",
    "list_B = [-4, 6, 12, 6, 80]\n",
    "\n",
    "if len(list_A) == len(list_B):\n",
    "    for k in range(len(list_A)):\n",
    "        if list_A[k] > list_B[k]:\n",
    "            list_B[k] = list_A[k]\n",
    "        elif list_A[k] < list_B[k]:\n",
    "            list_A[k] = list_B[k]\n",
    "        else:\n",
    "            list_A[k] = 0\n",
    "            list_B[k] = 0\n",
    "else:\n",
    "    print(\"Lists are not the same length\")\n",
    "    \n",
    "print(list_A)\n",
    "print(list_B)"
   ]
  },
  {
   "cell_type": "markdown",
   "metadata": {},
   "source": [
    "**Exercise:** Try changing the two lists above and make sure the output is what you expect. \n",
    "\n",
    "---\n",
    "## Break \n",
    "   \n",
    "A break statement will stop a loop before it has looped through all items"
   ]
  },
  {
   "cell_type": "code",
   "execution_count": null,
   "metadata": {},
   "outputs": [],
   "source": [
    "for i in range(0, 10, 2):\n",
    "    if i == 4:\n",
    "        print(\"i is 4\")\n",
    "        break\n",
    "    else:\n",
    "        print(\"i is not 4\")\n",
    "        "
   ]
  },
  {
   "cell_type": "markdown",
   "metadata": {},
   "source": [
    "There are also `continue` and `pass` statements that we do not expect to use, but that you might occasionally see."
   ]
  },
  {
   "cell_type": "markdown",
   "metadata": {},
   "source": [
    "---\n",
    "\n",
    "# Further study \n",
    "\n",
    "Loops and flow control are essential elements of programming and it is essential that you are able to use these. In addition to the exercises below, please review these pages from *w3schools*:\n",
    "\n",
    "- [for loops](https://www.w3schools.com/python/python_for_loops.asp)\n",
    "- [while loops](https://www.w3schools.com/python/python_while_loops.asp)\n",
    "- [if ... else](https://www.w3schools.com/python/python_conditions.asp)\n",
    "\n"
   ]
  },
  {
   "cell_type": "markdown",
   "metadata": {},
   "source": [
    "---\n",
    "# Exercises\n",
    "\n",
    "For each question, insert a new cell below the question statement and answer the question in that cell. \n",
    "\n",
    "---\n",
    "\n",
    "## Loops\n",
    "\n",
    "Write loops to do the following computations. Create and initialise variables as needed. Print the final result.\n",
    "\n",
    "1. Sum the even integers from 2 to 100, including 100 and print the result. (Hint: initialise a variable `total = 0` before the loop and use the `+=` operator in the loop.) Answer this question first using a for loop, then compute the same result using a while loop. "
   ]
  },
  {
   "cell_type": "markdown",
   "metadata": {},
   "source": [
    "---\n",
    "2. Write a loop to compute an approximation to $\\pi$ using the Wallis formula\n",
    "$$\n",
    "    \\pi \\simeq 2 \\prod_{k=1}^{N} \\frac{4 k^2}{4 k^2-1}\n",
    "$$\n",
    "\n",
    "    $\\prod$ means product, i.e. like $\\sum$ but multiplying rather than adding.\n",
    "\n",
    "    Set an integer variable $N$ before the loop. Run the cell for several values of $N$ and observe convergence to the true value of $\\pi$ as $N$ becomes large. (Note, to observe the convergence you probably do not want to use equally spaced values of $N$ such as 100, 200, 300, etc. You want to use values such as 10, 100, 1000, etc. These values are equally spaced on a logarithmic scale. We will frequently be interested in examining convergence using such logarithmic scales.)"
   ]
  },
  {
   "cell_type": "markdown",
   "metadata": {},
   "source": [
    "---\n",
    "3. For examining numerical convergence we frequently want to consider a set of values that are equally spaced on a logarithmic scale. Equivalently we want a set of values that varies exponentially. Write for loops that compute and print the following values of $n$. \n",
    "    - $n$ of the form $10^k$, for k from 0 to 9.\n",
    "    - $n$ of the form $2^k$, for k from 0 to 16.\n",
    "    - same again but with negative exponents: $h = 10^{-k}$ and $h = 2^{-k}$.\n"
   ]
  },
  {
   "cell_type": "markdown",
   "metadata": {},
   "source": [
    "---\n",
    "4. Write Python code that computes the mean of odd integers from 1 to $N$ including $N$, where $N$ is a odd positive integer. Do this by first create a list `values` with these odd integers. Use a `for loop` to compute the sum of `values` and divide by the number of values. \n",
    "\n",
    "(Hint: you may want to use `len(values)`, but it is not required.) \n",
    "\n",
    "You should also try printing the list `values` if its length is less that 5.\n",
    "\n",
    "Test your loops for small value of $N$ by computing the answer by hand. "
   ]
  },
  {
   "cell_type": "markdown",
   "metadata": {},
   "source": [
    "---\n",
    "\n",
    "5. The cell below has Python code that computes and prints the Fibonacci series up to some maximum value. (This example is taken from [python.org](https://docs.python.org/3/tutorial/controlflow.html#defining-functions).) First run the cell trying different values of $n$. You will see that this code has two features we have not yet discussed:\n",
    "- `end=' '` in the print statement. Try taking it out and see what happens. Then put it back in. (Don't forget that you can undo your edits from within edit mode.) We probably won't need this, but it shows you how to override the default that a new line follows every print statement.\n",
    "- One can assign multiple values in a single statement. [See related w3schools page](https://www.w3schools.com/python/python_variables_multiple.asp). Try to rewrite the code without using this Python's ability to assign multiple values in a single statement. Hint: you will need another variable inside the loop to do this. "
   ]
  },
  {
   "cell_type": "code",
   "execution_count": null,
   "metadata": {},
   "outputs": [],
   "source": [
    "n = 2000\n",
    "a, b = 0, 1\n",
    "while a < n:\n",
    "    print(a, end=' ')\n",
    "    a, b = b, a+b\n",
    "print()"
   ]
  },
  {
   "cell_type": "markdown",
   "metadata": {},
   "source": [
    "---\n",
    "## Conditionals\n",
    "\n",
    "6. Create a for loop: `for k in range(1, 22):`. Inside this loop print k if k is divisible by 3 and also print k if k is divisible by both 2 and 5. "
   ]
  },
  {
   "cell_type": "markdown",
   "metadata": {},
   "source": [
    "---\n",
    "7. Write Python code that sets $a$, $b$, and $c$ to some values. Write conditional statements that compute $W$, where $W$ is the maximum of $|a|$, $|b|$, $|c|$. Try various values of $a$, $b$ and $c$ and print the result $W$. Make sure your code works for all possible cases. (Recall that `abs(x)` computes the absolute value of `x`.) "
   ]
  },
  {
   "cell_type": "markdown",
   "metadata": {},
   "source": [
    "---\n",
    "8. Let $y$ be given as a function of $x$ by\n",
    "$$\n",
    "\\,\\,\\,\\,\\,\\, y = -1, \\text{if} \\,\\, x \\le -1 \\\\\n",
    "\\,\\,\\,\\,\\,\\,\\,\\,\\,\\,\\,\\, y =  x, \\text{if} \\, -1 \\lt x \\le 1 \\\\\n",
    "y =  1, \\text{if} \\,\\, 1 \\lt x \n",
    "$$\n",
    "\n",
    "Write Python code that sets $x$ to some value and then using conditionals sets $y$ according to the above rule. Print x and y. Make sure your code works for all cases."
   ]
  },
  {
   "cell_type": "markdown",
   "metadata": {},
   "source": [
    "---\n",
    "# Answers and Comments\n",
    "---\n",
    "\n",
    "Expand cells (click on left margin) to see answers and comments on selected exercises.\n"
   ]
  },
  {
   "cell_type": "markdown",
   "metadata": {},
   "source": [
    "Q1 answer"
   ]
  },
  {
   "cell_type": "code",
   "execution_count": null,
   "metadata": {
    "jupyter": {
     "source_hidden": true
    }
   },
   "outputs": [],
   "source": [
    "# Q1 answer\n",
    "\n",
    "total = 0\n",
    "for n in range(2,102,2):\n",
    "    total += n\n",
    "print(total)\n",
    "\n",
    "# The answer is known \n",
    "print(\"known answer = \", 50 * 51) \n",
    "\n",
    "total = 0\n",
    "n = 2\n",
    "while ( n <= 100):\n",
    "    total += n\n",
    "    n += 2\n",
    "print(total)"
   ]
  },
  {
   "cell_type": "markdown",
   "metadata": {},
   "source": [
    "Q2 answer"
   ]
  },
  {
   "cell_type": "code",
   "execution_count": null,
   "metadata": {
    "jupyter": {
     "source_hidden": true
    }
   },
   "outputs": [],
   "source": [
    "# Q2 answer\n",
    "# Did you used total for your variable? Maybe not the most descriptive name for a product of numbers.\n",
    "\n",
    "N = 10000\n",
    "product = 1\n",
    "\n",
    "for k in range(1,N+1):\n",
    "    product *= 4*k**2 / (4*k**2-1)\n",
    "    \n",
    "my_pi = 2 * product\n",
    "print(\"For N =\", N, \"the approximation to pi is\", my_pi)"
   ]
  },
  {
   "cell_type": "markdown",
   "metadata": {},
   "source": [
    "Q3 answer"
   ]
  },
  {
   "cell_type": "code",
   "execution_count": null,
   "metadata": {
    "jupyter": {
     "source_hidden": true
    }
   },
   "outputs": [],
   "source": [
    "# Q3 answer\n",
    "\n",
    "for k in range(10):\n",
    "    N = 10**k\n",
    "    print(k, N)  # you were not asked to print k, but it is helpful to see it\n",
    "print()          # print a blank line to separate the output\n",
    "    \n",
    "for k in range(17):\n",
    "    N = 2**k\n",
    "    print(k, N)\n",
    "print()\n",
    "\n",
    "for k in range(10):\n",
    "    h = 10**-k\n",
    "    print(k, h)\n",
    "print()\n",
    "\n",
    "for k in range(17):\n",
    "    h = 2**-k\n",
    "    print(k, h)\n",
    "print()"
   ]
  },
  {
   "cell_type": "markdown",
   "metadata": {},
   "source": [
    "Q4 answer"
   ]
  },
  {
   "cell_type": "code",
   "execution_count": null,
   "metadata": {
    "jupyter": {
     "source_hidden": true
    }
   },
   "outputs": [],
   "source": [
    "# Q4 answer\n",
    "\n",
    "N = 9\n",
    "values = list(range(1,N+1,2))\n",
    "\n",
    "if len(values) < 5:\n",
    "    print(values)\n",
    "\n",
    "# one method\n",
    "total = 0 \n",
    "for x in values:\n",
    "    total += x\n",
    "mean = total/len(values)\n",
    "print(mean)\n",
    "\n",
    "print()\n",
    "\n",
    "# another method\n",
    "total = 0 \n",
    "for i in range(len(values)):\n",
    "    total += values[i]\n",
    "mean = total/len(values)\n",
    "print(mean)\n",
    "\n",
    "# You should understand why both methods work. Of course other solutions are possible."
   ]
  },
  {
   "cell_type": "markdown",
   "metadata": {},
   "source": [
    "Q5 answer"
   ]
  },
  {
   "cell_type": "code",
   "execution_count": null,
   "metadata": {
    "jupyter": {
     "source_hidden": true
    }
   },
   "outputs": [],
   "source": [
    "# Q5 answer.\n",
    "# There are lots of possible answers here. This one seems elegant\n",
    "\n",
    "n = 2000\n",
    "a = 0\n",
    "b = 1\n",
    "c = a+b\n",
    "while a < n:\n",
    "    print(a, end=' ')\n",
    "    a = b \n",
    "    b = c\n",
    "    c = a+b\n",
    "print()"
   ]
  },
  {
   "cell_type": "markdown",
   "metadata": {},
   "source": [
    "Q6 answer"
   ]
  },
  {
   "cell_type": "code",
   "execution_count": null,
   "metadata": {
    "jupyter": {
     "source_hidden": true
    }
   },
   "outputs": [],
   "source": [
    "# Q6 answer\n",
    "# Note, the parentheses are not required in the line checking both 2 and 5,\n",
    "# but I find compound logic statements more readable with them. \n",
    "# Try taking them out and see what you think.\n",
    "\n",
    "for k in range(1, 22):\n",
    "    if k%3 == 0:\n",
    "        print(k, \"is divisible by 3\\n\")\n",
    "    if (k%2 == 0) and (k%5 == 0):\n",
    "        print(k, \"is divisible by both 2 and 5\\n\")\n"
   ]
  },
  {
   "cell_type": "markdown",
   "metadata": {},
   "source": [
    "Q7 answer"
   ]
  },
  {
   "cell_type": "code",
   "execution_count": null,
   "metadata": {
    "jupyter": {
     "source_hidden": true
    }
   },
   "outputs": [],
   "source": [
    "# Q7 answer\n",
    "\n",
    "a = -1\n",
    "b = 3\n",
    "c = -2\n",
    "\n",
    "# this is how I would do it\n",
    "W = abs(a)\n",
    "if(W < abs(b)):\n",
    "    W = abs(b)\n",
    "if(W < abs(c)):\n",
    "    W = abs(c)\n",
    "\n",
    "print(W)\n",
    "\n",
    "\n",
    "# another valid solutions (of course there are many others)\n",
    "if(abs(a) < abs(b)):\n",
    "    W = abs(b)\n",
    "else:\n",
    "    W = abs(a)\n",
    "if(W < abs(c)):\n",
    "    W = abs(c)\n",
    "\n",
    "print(W)"
   ]
  },
  {
   "cell_type": "markdown",
   "metadata": {},
   "source": [
    "Q8 answer"
   ]
  },
  {
   "cell_type": "code",
   "execution_count": null,
   "metadata": {
    "jupyter": {
     "source_hidden": true
    }
   },
   "outputs": [],
   "source": [
    "# Q8 answer\n",
    "\n",
    "x = 0.3\n",
    "\n",
    "# it is better to use elif and else here and not have 3 if statements. why? \n",
    "if x <= -1.0:\n",
    "    y = -1.0     \n",
    "elif x <= 1.0:\n",
    "    y = x\n",
    "else:\n",
    "    y = 1.0\n",
    "    \n",
    "print(x,y)"
   ]
  },
  {
   "cell_type": "markdown",
   "metadata": {},
   "source": [
    "---\n",
    "\n",
    "Copyright (C) 2021 Dwight Barkley"
   ]
  }
 ],
 "metadata": {
  "kernelspec": {
   "display_name": "Python 3 (ipykernel)",
   "language": "python",
   "name": "python3"
  },
  "language_info": {
   "codemirror_mode": {
    "name": "ipython",
    "version": 3
   },
   "file_extension": ".py",
   "mimetype": "text/x-python",
   "name": "python",
   "nbconvert_exporter": "python",
   "pygments_lexer": "ipython3",
   "version": "3.9.7"
  }
 },
 "nbformat": 4,
 "nbformat_minor": 4
}
