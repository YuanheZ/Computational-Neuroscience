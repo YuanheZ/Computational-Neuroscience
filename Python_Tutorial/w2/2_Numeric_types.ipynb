{
 "cells": [
  {
   "cell_type": "markdown",
   "metadata": {},
   "source": [
    "# Numeric data types\n",
    "\n",
    "There are 3 types of built-in numerical data types in Python:\n",
    "`int`, `float`, and `complex`. Our numerical variables will be one of these types.   \n",
    "\n",
    "- `int` are integers, both positive and negative, e.g. 1, -2, 1024, etc. (Even though the type is spelled `int` one commonly says \"integer\" and refers to the type as integer.)\n",
    "\n",
    "- `float` is short for \"floating point number\". These should be thought of as the computer representation of real numbers, e.g. 2.985. (Unlike real numbers, Python floats have only a finite number of digits and thus cannot represent $\\pi$ exactly.) A decimal point within a number is one of the ways Python knows that a number is of type float. \n",
    "\n",
    "- `complex` is the computer representation of complex numbers. `1J` or `1j` is used to represent $\\sqrt{-1}$, e.g. $1+i$ is written `1+1j`. Note: if you write `1+j`, Python will understand this to mean \"1 plus a variable named j\". You must put a number just before `J` or `j` for Python to understand that you mean a complex number.\n",
    "\n",
    "- Python is a dynamically typed language. Variables get their type from how they are used. \n",
    "  When you write `N = 1000`, this defines a variable `N` to be of type integer and it stores the value 1000.\n",
    "  Similarly, `total = 0.0` defines the variable `total` to be of type float because it contains a decimal point, even though the number 0 happens to be an integer.\n",
    "\n",
    "\n",
    "Python is **case sensitive**, so `x` and `X` are different variables.\n",
    "\n",
    "Don't forget, whenever you see a code cell, you are meant to run it. "
   ]
  },
  {
   "cell_type": "code",
   "execution_count": null,
   "metadata": {},
   "outputs": [],
   "source": [
    "# k is an integer\n",
    "k = 9                         \n",
    "print(\"k is\", k)\n",
    "\n",
    "# x is a float (the decimal point makes it a float)\n",
    "x = 9.0\n",
    "print(\"x is\", x)\n",
    "\n",
    "# e or E within a number is used for powers of 10\n",
    "y = 1.0e-3\n",
    "print(\"y is\", y)\n",
    "\n",
    "# Even though no decimal point, the E makes w a float (note the form of the output)\n",
    "w = 2E3                       \n",
    "print(\"w is\", w)\n",
    "\n",
    "# z is complex, the parentheses are not required, but a good idea\n",
    "z = (1+2j)\n",
    "print(\"z is\", z)\n",
    "\n",
    "# X is a float, different from x\n",
    "X = -27.0                      \n",
    "print(\"x=\", x, \", while X = \", X)"
   ]
  },
  {
   "cell_type": "markdown",
   "metadata": {},
   "source": [
    "**Exercise:** before going on, play with the above variables enough to be sure you understand. Each time you try something, rerun the cell. In particular, try changing the power of 10 in the expressions with e or E. Try removing the parentheses in the expression for z. (You see that the parenthesis are not required, but they will be useful for clarity in complicated expressions.) Try to define z to be a different complex number.\n",
    "\n",
    "---\n",
    "While keeping track of variable types will not be a major concern for us, you need to recognise that *the distinction between these numerical types is fundamental* -- not only to Python, but to all programming languages. Computer hardware treats these types very differently. You should think: `int` variables are exact, while `float` variables generally aren't. `int` variables can also be thought of as counting variables. In certain contexts you are specifically required to use a counting variable, a `int`, and in such cases you do need to care about the variable type. \n",
    "\n",
    "You can always find out a variable's type with `print(type(variable))`."
   ]
  },
  {
   "cell_type": "code",
   "execution_count": null,
   "metadata": {},
   "outputs": [],
   "source": [
    "print(\"The type of k is\", type(k))  \n",
    "print(\"The type of x is\", type(x))\n",
    "print(\"The type of z is\", type(z))"
   ]
  },
  {
   "cell_type": "markdown",
   "metadata": {},
   "source": [
    "Don't worry about the `<class  >` part of this output. You might as well get used to seeing output from Python that we will not explain. You can nevertheless see the `int`, `float` and `complex` types. You will sometimes need to understand/confirm the types for variables to get your codes working, so remember `type()`.\n",
    "\n",
    "---"
   ]
  },
  {
   "cell_type": "markdown",
   "metadata": {},
   "source": [
    "There is also a `Boolean` data type that takes values `True` or `False`. While Boolean variables are not numerical, this is a good time to introduce them. Here are examples"
   ]
  },
  {
   "cell_type": "code",
   "execution_count": null,
   "metadata": {},
   "outputs": [],
   "source": [
    "my_bool = False\n",
    "print(\"my_bool is\", my_bool)"
   ]
  },
  {
   "cell_type": "code",
   "execution_count": null,
   "metadata": {},
   "outputs": [],
   "source": [
    "# slightly more realistic example. (We discuss logical operations next, but the idea is simple)\n",
    "check = 9 > 4                           \n",
    "print(\"It is\", check, \"that 9 > 4\")\n",
    "print(\"The type of variable check is\", type(check))"
   ]
  },
  {
   "cell_type": "markdown",
   "metadata": {},
   "source": [
    "---\n",
    "# Exercises\n",
    "\n",
    "---\n",
    "Proper exercises will wait until we cover the next topic **Operations**, but feel free to edit the Python code in the cell above, e.g. change the number or change `9 > 4` to `9 < 4` (both in the assignment statement and in the print statement if you want sensible code). "
   ]
  },
  {
   "cell_type": "markdown",
   "metadata": {},
   "source": [
    "---\n",
    "\n",
    "# Further study and bonus discussion\n",
    "\n",
    "Specially recommended pages from *w3schools* relevant to this notebook:\n",
    "\n",
    "- [w3schools: numbers](https://www.w3schools.com/python/python_numbers.asp)\n",
    "- [w3schools: variables](https://www.w3schools.com/python/python_variables.asp)\n",
    "- [w3schools: variable names](https://www.w3schools.com/python/python_variables_names.asp)\n",
    "\n",
    "> The last of these addresses the naming of variables. There is a lot that can be said on this topic. The most important thing in choosing variable names is to be clear. Having said that, one quickly runs into differences of opinion about what that means. \n",
    "\n",
    "> Pro Tip: It is common practice to use letters i, k, m, n, K, N, and M for integer variables, particularly in the context of index and loop variables. Better to avoid j (since it is a complex number in Python) and l since it can be difficult to distinguish from the number one. Single letter variable names are generally not recommended in large programmes. (More technically, they should not have large scope.) Use descriptive names. For example, start integer variables with one of these letters, e.g. `Nsamples`, `k_iterates`, `i_row`, `j_col`. Note we are happy to use j if it is not a one-letter variable. \n"
   ]
  },
  {
   "cell_type": "markdown",
   "metadata": {},
   "source": [
    "---\n",
    "\n",
    "Copyright (C) 2021 Dwight Barkley"
   ]
  }
 ],
 "metadata": {
  "kernelspec": {
   "display_name": "Python 3 (ipykernel)",
   "language": "python",
   "name": "python3"
  },
  "language_info": {
   "codemirror_mode": {
    "name": "ipython",
    "version": 3
   },
   "file_extension": ".py",
   "mimetype": "text/x-python",
   "name": "python",
   "nbconvert_exporter": "python",
   "pygments_lexer": "ipython3",
   "version": "3.9.7"
  }
 },
 "nbformat": 4,
 "nbformat_minor": 4
}
