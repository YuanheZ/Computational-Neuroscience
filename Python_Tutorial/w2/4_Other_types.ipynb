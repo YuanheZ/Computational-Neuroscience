{
 "cells": [
  {
   "cell_type": "markdown",
   "metadata": {},
   "source": [
    "# Other data types\n",
    "\n",
    "Python provides many built-in data types, in particular the sequence types (containers) — `list`, `tuple`, `range`, and also a text type `str` (*str* stands for *string* which is a generic computer term for a sequence of text characters). We will show examples covering the basics of these data types that you will need. \n",
    "\n",
    "**Notes**\n",
    "- It is important that you know and recognise Python types `lists` and `tuples`. \n",
    "However, we will primarily be interested in other data types (arrays that we discuss next week).\n",
    "- `range` is very important for loops, but also relatively easy. \n",
    "- **Python uses zero-based indexing**. That means, the first element of sequences have index 0, the second has index 1, and so on. This is will clear in the examples that follow. You will need to get used to this.\n",
    "\n",
    "Python has other data types (e.g. `dictionary` and `set`) that we will not discuss.\n",
    "\n",
    "---\n",
    "## Strings\n",
    "\n",
    "For what we need, strings are very easy. They are formed with either single or double quote marks."
   ]
  },
  {
   "cell_type": "code",
   "execution_count": null,
   "metadata": {},
   "outputs": [],
   "source": [
    "# Examples of using strings\n",
    "text1 = 'hello'\n",
    "text2 = \"world\"\n",
    "print(type(text1))\n",
    "print(text1)\n",
    "\n",
    "print(type(text2))\n",
    "print(text2)"
   ]
  },
  {
   "cell_type": "markdown",
   "metadata": {},
   "source": [
    "You can concatenate strings with `+`"
   ]
  },
  {
   "cell_type": "code",
   "execution_count": null,
   "metadata": {},
   "outputs": [],
   "source": [
    "text3 = text1 + ' ' + text2\n",
    "print(text3)"
   ]
  },
  {
   "cell_type": "markdown",
   "metadata": {},
   "source": [
    "You can access individual characters using `[index]` where the index is an integer"
   ]
  },
  {
   "cell_type": "code",
   "execution_count": null,
   "metadata": {},
   "outputs": [],
   "source": [
    "# The first character has index 0. The 7th character has index 6.\n",
    "print(text3[0], text3[6])"
   ]
  },
  {
   "cell_type": "markdown",
   "metadata": {},
   "source": [
    "`len()` will tell you the length of a string"
   ]
  },
  {
   "cell_type": "code",
   "execution_count": null,
   "metadata": {},
   "outputs": [],
   "source": [
    "print(\"The lengths of text1, text2 and text3 are:\", len(text1), len(text2), len(text3))"
   ]
  },
  {
   "cell_type": "markdown",
   "metadata": {},
   "source": [
    "---\n",
    "## Lists\n",
    "\n",
    "Lists are sequences constructed with square brackets `[ ]`.  Commas separate items in the list."
   ]
  },
  {
   "cell_type": "code",
   "execution_count": null,
   "metadata": {},
   "outputs": [],
   "source": [
    "my_list = [2, 4, 6, 8, 10] \n",
    "\n",
    "print(type(my_list))\n",
    "print(my_list)"
   ]
  },
  {
   "cell_type": "markdown",
   "metadata": {},
   "source": [
    "As with strings, you can access individual items of the list using `[index]`."
   ]
  },
  {
   "cell_type": "code",
   "execution_count": null,
   "metadata": {},
   "outputs": [],
   "source": [
    "print(\"The first element of my_list is\", my_list[0])\n",
    "print(\"The second element of my_list is\", my_list[1])"
   ]
  },
  {
   "cell_type": "markdown",
   "metadata": {},
   "source": [
    "As with strings, you can concatenate lists with `+`.  (Note this means that lists do not add like vectors. Adding two vectors means adding the individual components. We return to this next week.) "
   ]
  },
  {
   "cell_type": "code",
   "execution_count": null,
   "metadata": {},
   "outputs": [],
   "source": [
    "list_A = [1, 2]\n",
    "list_B = [3, 4]\n",
    "list_C = list_A+list_B\n",
    "print(\"list_C is\", list_C)"
   ]
  },
  {
   "cell_type": "markdown",
   "metadata": {},
   "source": [
    "`len()` will tell you the length of a list."
   ]
  },
  {
   "cell_type": "code",
   "execution_count": null,
   "metadata": {},
   "outputs": [],
   "source": [
    "print(\"The lengths of list_A, list_B and list_C are:\", len(list_A), len(list_B), len(list_C))"
   ]
  },
  {
   "cell_type": "markdown",
   "metadata": {},
   "source": [
    "You can modify an item in a list. "
   ]
  },
  {
   "cell_type": "code",
   "execution_count": null,
   "metadata": {},
   "outputs": [],
   "source": [
    "list_C[0] = -6\n",
    "print(\"modified list_C is\", list_C)"
   ]
  },
  {
   "cell_type": "markdown",
   "metadata": {},
   "source": [
    "(Note this is a difference between lists and strings: you cannot modify a string.)\n",
    "\n",
    "Because you can modify a list, you can append to an existing list with `+=`."
   ]
  },
  {
   "cell_type": "code",
   "execution_count": null,
   "metadata": {},
   "outputs": [],
   "source": [
    "# We can append another copy of list_A to the end of list_C\n",
    "list_C += list_A\n",
    "print(\"list_C is now\", list_C)"
   ]
  },
  {
   "cell_type": "markdown",
   "metadata": {},
   "source": [
    "**Exercise:** Re-run the cell above a few times and explain what you observe."
   ]
  },
  {
   "cell_type": "markdown",
   "metadata": {},
   "source": [
    "Finally, list items do not all need to be of the same type"
   ]
  },
  {
   "cell_type": "code",
   "execution_count": null,
   "metadata": {},
   "outputs": [],
   "source": [
    "list_D = [2, 4.0, 'six', 8.0, 10]  \n",
    "print(\"list_D is\", list_D)"
   ]
  },
  {
   "cell_type": "markdown",
   "metadata": {},
   "source": [
    "---\n",
    "## Tuples\n",
    "\n",
    "Tuples are also sequences. The differences between tuples and lists are: tuples use parentheses `()`, whereas lists use square brackets`[]`, and **tuples cannot be changed** (they are immutable).\n"
   ]
  },
  {
   "cell_type": "code",
   "execution_count": null,
   "metadata": {},
   "outputs": [],
   "source": [
    "# a tuple with three integers\n",
    "tuple1 = (1,2,3)\n",
    "print(type(tuple1))\n",
    "print(tuple1)\n",
    "\n",
    "# a tuple with an integer, string, and a float\n",
    "tuple2 = (1, 'to', 3.0)\n",
    "print(tuple2)"
   ]
  },
  {
   "cell_type": "markdown",
   "metadata": {},
   "source": [
    "We will primarily need tuples for passing values to and from functions. This will make more sense next week when you see it in practice. However, for completeness there are two things worth stressing now: \n",
    "\n",
    "1. Strictly, tuples are not defined by the parentheses, but by the commas. These means that sometimes you will see tuples used without parentheses, especially in returning multiple values from a function.\n",
    "\n",
    "2. Recognise that `f(x,y,z)` is **different** from `f((x,y,z))`.\n",
    "\n",
    "    In the first case we have `f(three things)` while in the second case `f(tuple)`. The inner `(` `)` in the\n",
    "second case signify a tuple.\n",
    "\n",
    "Here are some examples. The ideas will be repeated next week, so do not worry if you do not fully understand."
   ]
  },
  {
   "cell_type": "code",
   "execution_count": null,
   "metadata": {},
   "outputs": [],
   "source": [
    "# We can define a tuple without the parentheses. We do not recommend you do this, but you could. \n",
    "tuple3 = 1, 'to', 3.0\n",
    "\n",
    "# Notice that the output from the print includes ( )\n",
    "print(tuple3)\n",
    "\n",
    "# The following is common, however. We extract integer x, string y, and float z from tuple3. \n",
    "x, y, z = tuple3\n",
    "print(x,y,z)\n",
    "print(type(x), type(y), type(z))\n",
    "      \n",
    "# we define a function called my_function that prints a tuple (don't worry about the details) \n",
    "def my_function(my_tuple):\n",
    "    print(my_tuple)\n",
    "    \n",
    "# this works    \n",
    "my_function(tuple3)    \n",
    "\n",
    "# this also works\n",
    "my_function((x,y,z))  \n",
    "\n",
    "# but this does not work. Uncommment and try it.\n",
    "# my_function(x,y,z)"
   ]
  },
  {
   "cell_type": "markdown",
   "metadata": {},
   "source": [
    "---\n",
    "## Range\n",
    "\n",
    "`range` represents a sequence of numbers and is commonly used for looping a specific number of times \n",
    "in `for loops` (this is the topic of the next notebook).\n",
    "\n",
    "In the simplest form, `range(10)` yields ten integers: from 0 to 9. (You really need to get used to starting from zero by default.)\n",
    "\n",
    "`range(1,11)` yields integers from 1 to 10.\n",
    "\n",
    "`range(0, 30, 5)` yields the integers 0, 5, 10, 15, 20, 25.\n",
    "\n",
    "`range(0, -10, -1)` yields the integers 0, -1, -2, -3, -4, -5, -6, -7, -8, -9.\n",
    "\n",
    "The general form of range is `range(start, stop, step)`. This yields a sequence starting with `start`, incrementing in steps of size `step`. \n",
    "\n",
    "For a positive `step`, the contents of a range `r` are determined by the formula `r[i] = start + step*i` where `i >= 0` and `r[i] < stop`.\n",
    "\n",
    "For a negative `step`, the contents of the range are still determined by the formula `r[i] = start + step*i`, but the constraints are `i >= 0` and `r[i] > stop`.\n",
    "\n",
    "If `step` is not given then it is taken to be 1. If `start` is not given it is taken to be 0.\n",
    "\n",
    "---\n",
    "\n",
    "Using range to generate a desired sequences is not hard, but it does take practice. To start using `range` before we get to loops, we can create `lists` using `range` as follows\n",
    "\n",
    "`my_range_list = list(range(start, stop, step))`\n",
    "\n",
    "For example"
   ]
  },
  {
   "cell_type": "code",
   "execution_count": null,
   "metadata": {},
   "outputs": [],
   "source": [
    "x = list(range(10))   \n",
    "print(\"List of the first 10 integers (starting from zero):\", x)"
   ]
  },
  {
   "cell_type": "markdown",
   "metadata": {},
   "source": [
    "Before running the cell below, work out what will be in lists y, z, and w. Then run the cell and check your answers."
   ]
  },
  {
   "cell_type": "code",
   "execution_count": null,
   "metadata": {},
   "outputs": [],
   "source": [
    "y = list(range(15,21))\n",
    "z = list(range(0, 12, 2))\n",
    "w = list(range(5,-5,-1))\n",
    "\n",
    "print(y)\n",
    "print(z)\n",
    "print(w)"
   ]
  },
  {
   "cell_type": "markdown",
   "metadata": {},
   "source": [
    "Finally, note the following about `range` in the case step=1. We can concatenate or append seamlessly to a list by using a start value that was a previous stop value."
   ]
  },
  {
   "cell_type": "code",
   "execution_count": null,
   "metadata": {},
   "outputs": [],
   "source": [
    "N = 3\n",
    "a = list(range(N))\n",
    "a += list(range(N, 2*N))\n",
    "a += list(range(2*N, 3*N))\n",
    "a += list(range(3*N, 34*N))\n",
    "print(a)"
   ]
  },
  {
   "cell_type": "markdown",
   "metadata": {},
   "source": [
    "---\n",
    "\n",
    "# Review and further study\n",
    "\n",
    "Specific recommended pages from *w3schools* relevant for review before or after attempting exercises below. We will recommend other w3shools pages on these subjects after we cover slicing in the final notebook this week.\n",
    "\n",
    "- https://www.w3schools.com/python/python_strings.asp\n",
    "- https://www.w3schools.com/python/python_strings_concatenate.asp\n",
    "- https://www.w3schools.com/python/python_lists.asp\n",
    "- https://www.w3schools.com/python/python_tuples.asp\n",
    "\n",
    "\n",
    "The official Python documentation contains further details. (We recommend at least clicking on these links to see the nature of the full documentation.)\n",
    "\n",
    "https://docs.python.org/3/library/stdtypes.html#sequence-types-list-tuple-range\n",
    "\n",
    "https://docs.python.org/3/library/stdtypes.html#text-sequence-type-str\n"
   ]
  },
  {
   "cell_type": "markdown",
   "metadata": {},
   "source": [
    "---\n",
    "# Exercises\n",
    "\n",
    "For each question, insert a new cell below the question statement and answer the question in that cell. \n",
    "\n",
    "1. Create a string s1 with the text \"what ever\" and print the 4rd and 6th element. Using individual elements of s1 and concatenation, create a new string s2 with text \"whatever\". Write Python a expression that will print the length of s2 if its length is less than or equal to 8.  "
   ]
  },
  {
   "cell_type": "markdown",
   "metadata": {},
   "source": [
    "---\n",
    "2. Create a string `s3 = \"MA124\"` and a tuple `t3 = (\"M\",\"A\",1,2,4)`. Verify the types by printing their types. Print each. Print the second element of each. \n",
    "\n",
    "After that works, add code that attempts to change the second element of each to \"S\". This will fail, but you should see what the fail looks like. Note, you will have to try this separately for the string and tuple. As soon as execution encounters the first error it will not continue to the second."
   ]
  },
  {
   "cell_type": "markdown",
   "metadata": {},
   "source": [
    "---\n",
    "\n",
    "3. Use `list(range())` and concatenation as needed to create and print the following lists. \n",
    "- `[0, 1, 3, 4, 5, 6, 7, 8]`\n",
    "- `[0, 2, 4, 6, 8]`\n",
    "- even integers from 10 to 20, including 10 and 20.\n",
    "- integers from -10 to 10 including 10.\n",
    "- `[1, 3, 5, 7, 9]`\n",
    "- `[8, 6, 4, 2, 0]`\n",
    "- `[1, 2, 3, 3, 2, 1]`"
   ]
  },
  {
   "cell_type": "markdown",
   "metadata": {},
   "source": [
    "---\n",
    "# Answers and Comments\n",
    "---\n",
    "\n",
    "Expand cells (click on left margin) to see answers and comments on selected exercises.\n"
   ]
  },
  {
   "cell_type": "markdown",
   "metadata": {},
   "source": [
    "Q1 answer"
   ]
  },
  {
   "cell_type": "code",
   "execution_count": null,
   "metadata": {
    "jupyter": {
     "source_hidden": true
    }
   },
   "outputs": [],
   "source": [
    "# Q1 answer\n",
    "\n",
    "# did you remember that the 4th and 6th elements have index 3 and 5?\n",
    "# if not, take it as an important lesson.\n",
    "\n",
    "s1 = \"what ever\"\n",
    "print(s1[3], s1[5])\n",
    "s2 = s1[0]+s1[1]+s1[2]+s1[3]+s1[5]+s1[6]+s1[7]+s1[8]\n",
    "\n",
    "if len(s2) <= 8:\n",
    "    print(s2)"
   ]
  },
  {
   "cell_type": "markdown",
   "metadata": {},
   "source": [
    "Q2 answer"
   ]
  },
  {
   "cell_type": "code",
   "execution_count": null,
   "metadata": {
    "jupyter": {
     "source_hidden": true
    }
   },
   "outputs": [],
   "source": [
    "# Q2 answer\n",
    "\n",
    "s3 = \"MA124\"\n",
    "t3 = (\"M\",\"A\",1,2,4)\n",
    "print(type(s3))\n",
    "print(type(t3))\n",
    "\n",
    "print(s3)\n",
    "print(t3)\n",
    "\n",
    "# index of second element is 1\n",
    "print(s3[1])\n",
    "print(t3[1])\n",
    "\n",
    "# Either of these will result in an error\n",
    "# s3[1] = \"S\"\n",
    "# t3[1] = \"S\""
   ]
  },
  {
   "cell_type": "markdown",
   "metadata": {},
   "source": [
    "Q3 answer"
   ]
  },
  {
   "cell_type": "code",
   "execution_count": null,
   "metadata": {
    "jupyter": {
     "source_hidden": true
    }
   },
   "outputs": [],
   "source": [
    "# Q3 answer\n",
    "\n",
    "list1 = list(range(9))\n",
    "print(list1)\n",
    "\n",
    "list2 = list(range(0,9,2))\n",
    "print(list2)\n",
    "\n",
    "list3 = list(range(10,21,2))\n",
    "print(list3)\n",
    "\n",
    "list4 = list(range(-10,11))\n",
    "print(list4)\n",
    "\n",
    "list5 = list(range(1,10,2))\n",
    "print(list5)\n",
    "\n",
    "list6 = list(range(8,-1,-2))\n",
    "print(list6)\n",
    "\n",
    "list7 = list(range(1,4))+list(range(3,0,-1))\n",
    "print(list7)"
   ]
  },
  {
   "cell_type": "markdown",
   "metadata": {},
   "source": [
    "---\n",
    "\n",
    "Copyright (C) 2021 Dwight Barkley"
   ]
  }
 ],
 "metadata": {
  "kernelspec": {
   "display_name": "Python 3 (ipykernel)",
   "language": "python",
   "name": "python3"
  },
  "language_info": {
   "codemirror_mode": {
    "name": "ipython",
    "version": 3
   },
   "file_extension": ".py",
   "mimetype": "text/x-python",
   "name": "python",
   "nbconvert_exporter": "python",
   "pygments_lexer": "ipython3",
   "version": "3.9.7"
  }
 },
 "nbformat": 4,
 "nbformat_minor": 4
}
