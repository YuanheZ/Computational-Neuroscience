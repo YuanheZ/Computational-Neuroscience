{
 "cells": [
  {
   "cell_type": "markdown",
   "metadata": {
    "tags": []
   },
   "source": [
    "# Operations\n",
    "\n",
    "For our needs, the numerical operations on variables are mostly intuitive and easily learned. Here we provide a brief summary of the important operations. (There are many, many others; we provide links to extensive lists at the end of this notebook.) Your goal in reading through this notebook should not be to memorise all the operations, but rather to become familiar with them. If you forget something you need later, look it up, here or elsewhere. \n",
    "\n",
    "---\n",
    "\n",
    "- **Important arithmetic operations**\n",
    "    - `+`, `−`, `∗`, `/` work as expected. \n",
    "    - `x ** y` results in x to the power y: $x^y$. (Also can be expressed as `pow(x,y)`)\n",
    "    -` x // y` results in the floored quotient of x and y. The result is a whole integer rounded down.\n",
    "    - `x % y` results in the remainder of x divided by y. \n",
    "    - `-x` results in the negative of x.\n",
    "    - `abs(x)` results in the absolute value of x.\n",
    "    - `int(x)` convert x to integer.\n",
    "    - `float(x)` convert x to float. \n",
    "    - `complex(re, im)` complex number with real part re, imaginary part im."
   ]
  },
  {
   "cell_type": "code",
   "execution_count": null,
   "metadata": {},
   "outputs": [],
   "source": [
    "x = 4.0\n",
    "print(\"x is\", x)\n",
    "print(\"x**2 is\", x ** 2)    # this is how to get x to the power of 2\n",
    "print(\"x**-2 is\", x ** -2)  # this is how to get x to the power of -2\n",
    "\n",
    "k = 9\n",
    "print(\"k is\", k)\n",
    "print(\"k // 2 is\", k // 2)     # floored quotient\n",
    "print(\"k % 2 is\", k % 2)       # remainder \n",
    "\n",
    "# a useful way to think about floored quotient and remainder\n",
    "n = 4\n",
    "print(k, \"=\", n, \"times\", k//n, \"plus\", k%n )\n",
    "\n",
    "# convert float x to int (this is known as casting)\n",
    "N = int(x)\n",
    "print(\"after casting x to integer N is\", N)"
   ]
  },
  {
   "cell_type": "markdown",
   "metadata": {},
   "source": [
    "We don't illustrated every case from the list above because you will learn what you need naturally through later examples. You can always refer back.\n",
    "\n",
    "---\n",
    "In Python, when an arithmetic operator has operands of different numeric types, the operand with the “narrower” type is widened to that of the other, where integer is narrower than floating point, which is narrower than complex."
   ]
  },
  {
   "cell_type": "code",
   "execution_count": null,
   "metadata": {},
   "outputs": [],
   "source": [
    "m = 3\n",
    "y = 6.0\n",
    "\n",
    "print(6**m)                # two integers and the result in an integer\n",
    "print(y**m)                # numerically the same value, but since y is float the result is float\n",
    "\n",
    "print(\"m/3 is\", m/3)       # division of two integers produces a float\n",
    "\n",
    "v = m*(1+0j)               # 1+0j is a complex variable whose value is the number 1. \n",
    "print(\"v is\", v)           # the result is just 3, but the type is complex"
   ]
  },
  {
   "cell_type": "markdown",
   "metadata": {},
   "source": [
    "Note how the decimal point in the output tells you which is integer and which is float. If in doubt, you can always print the type().\n",
    "\n",
    "---\n",
    "- **Assignment operators** \n",
    "    - `x = y` assigns to x the value stored in y, (y is unchanged)\n",
    "    - `x += y` addition assignment, equivalent to x = x + y\n",
    "    - `x *= y` multiplication assignment, equivalent to x = x * y\n",
    "    - similar for `-=` and `\\=`"
   ]
  },
  {
   "cell_type": "code",
   "execution_count": null,
   "metadata": {},
   "outputs": [],
   "source": [
    "print(\"From above, x is\", x, \"and y is\", y)\n",
    "\n",
    "# we can change the value of a variable already defined\n",
    "x = y\n",
    "print(\"Now x is\", x)\n",
    "\n",
    "# the same variable can appear on both sides of the =\n",
    "x = -2 * x \n",
    "print(\"x is now\", x)\n",
    "\n",
    "# and for variety\n",
    "print(\"and the absolute value of x is\", abs(x))"
   ]
  },
  {
   "cell_type": "code",
   "execution_count": null,
   "metadata": {},
   "outputs": [],
   "source": [
    "w = 7\n",
    "w += 3\n",
    "print(w)"
   ]
  },
  {
   "cell_type": "markdown",
   "metadata": {},
   "source": [
    "**Exercise:** In the cell above, try the other operations `*=`, `-=`, `/=`. Note the type change of w for the case /=. These operators are important in many type of coding.\n",
    "\n",
    "---\n",
    "- **Comparison operations** These operations return a Boolean type and will be used in logical constructions. (See further down)\n",
    "    - `<` strictly less than\n",
    "    - `<=` less than or equal\n",
    "    - `>` strictly greater than\n",
    "    - `>=` greater than or equal\n",
    "    - `==` equal (as in, are they equal?)\n",
    "    - `!=` not equal"
   ]
  },
  {
   "cell_type": "code",
   "execution_count": null,
   "metadata": {},
   "outputs": [],
   "source": [
    "# check is a Boolean\n",
    "check = 9 > 4\n",
    "print(type(check))\n",
    "print(check)"
   ]
  },
  {
   "cell_type": "markdown",
   "metadata": {},
   "source": [
    "**Exercise:** In the cell above, try the other operations, maybe also change the numbers 9 and 4.\n",
    "\n",
    "---\n",
    "- **Boolean operations**\n",
    "    - `A and B` means A and B, where A and B are Boolean.\n",
    "    - `A or B` means A or B.\n",
    "    - `not A` means not A."
   ]
  },
  {
   "cell_type": "code",
   "execution_count": null,
   "metadata": {},
   "outputs": [],
   "source": [
    "A = 1 > 0               \n",
    "B = 1 < 0\n",
    "print(\"A is\", A, \"and B is\", B)\n",
    "print(\"A and B is\", A and B)\n",
    "print(\"A or B is\", A or B)\n",
    "print(\"not A is\", not A)"
   ]
  },
  {
   "cell_type": "markdown",
   "metadata": {},
   "source": [
    "---\n",
    "- **Order of precedence** In Python, and most other programming languages, operations are performed in the following order, here listed from high precedence (performed first) to low precedence (performed last):\n",
    "    - expressions in parentheses: `( )`\n",
    "    - powers: `**`\n",
    "    - multiplication and division: `*`, `/` \n",
    "    - addition and subtraction: `+`, `-`\n",
    "    - Operators at the same level of precedence are evaluated (grouped) from left to right. (The exception to left to right is exponentiation which is grouped from right to left.)\n",
    "    \n",
    "    - two specific cases involving powers: \n",
    "        - `-x**k` evaluates as `-(x**k)`, exponentiation before minus. \n",
    "        - `x**-k` evaluates as `x**(-k)`, minus before exponentiation. \n",
    "        \n",
    "        Don't overthink these two cases. They are natural and should not cause you trouble.\n",
    "\n",
    "**Exercise:** Think about what each of the statements below will evaluate to. If you want to check your answer, insert `print(x)` statements or else just print the expressions directly, e.g. `print(2 + 3 / 4)`."
   ]
  },
  {
   "cell_type": "code",
   "execution_count": null,
   "metadata": {},
   "outputs": [],
   "source": [
    "x = 1 + 2 * 3 ** 2\n",
    "\n",
    "x = 2 + 3 / 4\n",
    "\n",
    "x = 10 ** -3\n",
    "\n",
    "k = 4\n",
    "x = -1 ** k"
   ]
  },
  {
   "cell_type": "markdown",
   "metadata": {},
   "source": [
    "Comments: Each of the above expressions is clearly determined by order of precedence rules, and so the first three would be considered proper coding, at least in this module. The statement `x = 10 ** -3` is very typical and illustrates why we want the minus sign first in the exponent. We would not want to be always writing  `x = 10 ** (-3)`. The final expression is clearly not what the programmer wanted. Why? What will it give for different values of $k$? If you want $(-1)^k$, you need the parentheses just by the of rules Python, i.e. `x = (-1) ** k`.\n",
    "\n",
    "Note, you can and should check any expressions you are uncertain about by printing values and if necessary putting in parenthesis explicitly. It is better to have unnecessary parentheses than errors. "
   ]
  },
  {
   "cell_type": "markdown",
   "metadata": {},
   "source": [
    "---\n",
    "Two examples of what you should definitely not do, at least not in this module.\n"
   ]
  },
  {
   "cell_type": "code",
   "execution_count": null,
   "metadata": {},
   "outputs": [],
   "source": [
    "# Don't do this:\n",
    "x = 1 + 2 / 3 * 4\n",
    "\n",
    "# or this:\n",
    "x = 2 ** 3 / 4 "
   ]
  },
  {
   "cell_type": "markdown",
   "metadata": {},
   "source": [
    "While these are precisely defined Python expressions, they can surely lead to misunderstanding on the part of the reader.  We strongly recommend using parentheses for clarity, even if they are not required by syntax. These will make your intentions clear, both to yourself and to someone looking at your code. \n",
    "\n",
    "**Exercise:** Print the values of x in each expression above to confirm your understanding. Then re-write the expressions for clarity by using parentheses or by re-arranging them. \n",
    "\n",
    "Expand the cell below so see model answers:"
   ]
  },
  {
   "cell_type": "code",
   "execution_count": null,
   "metadata": {
    "jupyter": {
     "source_hidden": true
    },
    "tags": []
   },
   "outputs": [],
   "source": [
    "# Do this:\n",
    "x = 1 + (2/3) * 4\n",
    "print(x)\n",
    "# or this is ok:\n",
    "x = 1 + 2 * 4 / 3\n",
    "print(x)\n",
    "\n",
    "# Do this:\n",
    "x = (2 ** 3) / 4 \n",
    "print(x)"
   ]
  },
  {
   "cell_type": "markdown",
   "metadata": {},
   "source": [
    "---\n",
    "\n",
    "# Review and further study\n",
    "\n",
    "The basic operations in this notebook do not generally cause beginners problems. It is best to look at examples and to practise. Later you may need to look up precise details or more obscure operations. \n",
    "Scan this w3schools page and compare with what you learned here (it contains things not covered and that you don't need yet):\n",
    "\n",
    "- https://www.w3schools.com/python/python_operators.asp\n",
    "\n",
    "You may also refer to the following web pages:\n",
    "\n",
    "- [The top part of official page](https://docs.python.org/3/library/stdtypes.html) from the python web site contains tables of operations. \n",
    "- [Here](https://docs.python.org/3/reference/expressions.html#operator-summary) is a complete table of order of precedence (from lowest precedence to highest precedence).  We will not need the majority of that table. \n"
   ]
  },
  {
   "cell_type": "markdown",
   "metadata": {},
   "source": [
    "---\n",
    "# Exercises\n",
    "\n",
    "For each question, insert a new cell below the question statement and answer the question in that cell. \n",
    "\n",
    "1. Write Python code to evaluate the following mathematical expressions and print the results. Also print the type of all variables.\n",
    "\n",
    "    - $x = 10^3$\n",
    "\n",
    "    - $y = 1 - x^2$\n",
    "\n",
    "    - $z = \\sqrt{x^2 + y^2}~~~~$  (Hint: $\\sqrt{~}$ is the same as 1/2 power)\n",
    "    \n",
    "    - $w = \\sqrt{x^2 - y^2}$ \n",
    "\n",
    "    - $v = x/(y+z)$\n",
    "\n",
    "\n",
    "Depending on what Python code you wrote, the expression for $x$ might be of type `int` or `float`. Whichever type $x$ is in the expression you wrote, change the expression so that $x$ is of the other type and rerun the cell. Does the type of $y$ change also?\n",
    "\n",
    "Finally, one of the few formatting features we will care about is `round()`, which allows you to not print all digits. For example, `print(round(z,4))` prints z rounded to four digits after the decimal point. Try it! Note, you cannot use `round` with complex types."
   ]
  },
  {
   "cell_type": "markdown",
   "metadata": {},
   "source": [
    "---\n",
    "2. Set $x = -22.2$ and the set $n$ to the integer part of absolute value of $x$. Print both $x$ and $n$ and print the `type` of $x$ and $n$. You will use these value of $x$ and $n$ in further questions below.\n"
   ]
  },
  {
   "cell_type": "markdown",
   "metadata": {},
   "source": [
    "---\n",
    "3. Before writing any Python, determine yourself whether the following expressions are True or False. ($x$ and $n$ are from the cell above.) Then write Python to evaluate and print the expressions.\n",
    "\n",
    "    - 5 == abs(-5)\n",
    "    - (5 >= abs(-5)) and (5 <= abs(-5))\n",
    "    - (5 > abs(-5)) or ( not (5 <= abs(-5)))\n",
    "    - n == int(x),  where x and n are from above\n",
    "    - abs(n) % 3 == 0\n"
   ]
  },
  {
   "cell_type": "markdown",
   "metadata": {},
   "source": [
    "---\n",
    "4. Assign $M$ and $k$ integer values. Write a Python statement `A = expression` where `expression` is True if $M$ is divisible by $k$ and False otherwise. Test what you have written by trying various values of $M$ and $k$ and printing $A$. (This type of expression arises frequently when one wants to sample every $k$ values of entries in some large data set.) \n",
    "\n",
    "Write `B = expression`, where `expression` is False if $M$ is divisible by $k$ and True otherwise. There are two natural ways to do this given the expression for A. Find both. \n"
   ]
  },
  {
   "cell_type": "markdown",
   "metadata": {},
   "source": [
    "---\n",
    "5. Print the values of a in each the following expression to confirm your understanding syntax. Then re-write the expressions for clarity using parentheses or by re-arranging them. "
   ]
  },
  {
   "cell_type": "code",
   "execution_count": null,
   "metadata": {},
   "outputs": [],
   "source": [
    "a = 5 * 4 ** 2/3\n",
    "\n",
    "a = 2 / 5 ** 3 / 4 \n",
    "\n",
    "a = 1.E-1/2"
   ]
  },
  {
   "cell_type": "markdown",
   "metadata": {},
   "source": [
    "---\n",
    "# Answers and Comments\n",
    "---\n",
    "\n",
    "Expand cells (click on left margin) to see answers and comments on selected exercises.\n"
   ]
  },
  {
   "cell_type": "markdown",
   "metadata": {},
   "source": [
    "Q1 answer"
   ]
  },
  {
   "cell_type": "code",
   "execution_count": null,
   "metadata": {
    "jupyter": {
     "source_hidden": true
    }
   },
   "outputs": [],
   "source": [
    "# Q1 answer\n",
    "\n",
    "x = 10**3             # or x = 10.**3, or x = 1E3, which will make x a float\n",
    "y = 1 - x**2\n",
    "z = (x**2+y**2) ** 0.5\n",
    "w = (x**2-y**2) ** 0.5\n",
    "v = x/(y+z)\n",
    "\n",
    "print(x, y, z, w, v)\n",
    "print(type(x), type(y), type(z), type(w), type(v))\n",
    "print() # this print statement gives extra line, useful for clarity\n",
    "\n",
    "print(round(z,4), round(v,4) )\n",
    "print()\n",
    "\n",
    "# more attractive/informative output would be:\n",
    "print(\"x =\", x, \"and has type\", type(x))\n",
    "print(\"y =\", y, \"and has type\", type(y))\n",
    "print(\"z =\", round(z,4), \"and has type\", type(z))\n",
    "print(\"w =\", w, \"and has type\", type(w))\n",
    "print(\"v =\", round(v,4), \"and has type\", type(v))"
   ]
  },
  {
   "cell_type": "markdown",
   "metadata": {},
   "source": [
    "Q2 answer"
   ]
  },
  {
   "cell_type": "code",
   "execution_count": null,
   "metadata": {
    "jupyter": {
     "source_hidden": true
    }
   },
   "outputs": [],
   "source": [
    "# Q2 answer\n",
    "\n",
    "x = -22.2\n",
    "n = int(abs(x))\n",
    "\n",
    "print(x, n)\n",
    "print(type(x), type(n))"
   ]
  },
  {
   "cell_type": "markdown",
   "metadata": {},
   "source": [
    "Q3 answer"
   ]
  },
  {
   "cell_type": "code",
   "execution_count": null,
   "metadata": {
    "jupyter": {
     "source_hidden": true
    }
   },
   "outputs": [],
   "source": [
    "# Q3 answer\n",
    "\n",
    "# Here we just print the expressions directly, without assigning new variables\n",
    "print( 5 == abs(-5) ) \n",
    "\n",
    "print( (5 >= abs(-5)) and (5 <= abs(-5)) )\n",
    "\n",
    "print(5 > abs(-5)) or ( not (5 <= abs(-5)))\n",
    "\n",
    "print( n == int(x) )\n",
    "\n",
    "print( abs(n) % 3 == 0 )"
   ]
  },
  {
   "cell_type": "markdown",
   "metadata": {},
   "source": [
    "Q4 answer"
   ]
  },
  {
   "cell_type": "code",
   "execution_count": null,
   "metadata": {
    "jupyter": {
     "source_hidden": true
    }
   },
   "outputs": [],
   "source": [
    "# Q4 answer\n",
    "\n",
    "M = 25\n",
    "k = 5\n",
    "A = M%k == 0\n",
    "print(A)\n",
    "\n",
    "\n",
    "B = not(M%k == 0)\n",
    "print(B)\n",
    "# or\n",
    "B = M%k != 0\n",
    "print(B)"
   ]
  },
  {
   "cell_type": "markdown",
   "metadata": {},
   "source": [
    "Q5 answer"
   ]
  },
  {
   "cell_type": "code",
   "execution_count": null,
   "metadata": {
    "jupyter": {
     "source_hidden": true
    },
    "tags": []
   },
   "outputs": [],
   "source": [
    "# Q5 answer\n",
    "# In practice it is unlikely that you will not see such things.\n",
    "# There are other possible answers.\n",
    "\n",
    "# don't do this:\n",
    "a = 5 * 4 ** 2/3\n",
    "print(a)\n",
    "\n",
    "# do this:\n",
    "a = (5 / 3) * 4 ** 2\n",
    "print(a)\n",
    "\n",
    "print()\n",
    "\n",
    "# don't do this:\n",
    "a = 2 / 5 ** 3 / 4 \n",
    "print(a)\n",
    "\n",
    "# do this:\n",
    "a = (2 / (5 ** 3)) / 4 \n",
    "print(a)\n",
    "\n",
    "print()\n",
    "\n",
    "# do this:\n",
    "a = 1.E-1/2\n",
    "print(a)\n",
    "a = (1.E-1)/2\n",
    "print(a)"
   ]
  },
  {
   "cell_type": "markdown",
   "metadata": {},
   "source": [
    "---\n",
    "\n",
    "Copyright (C) 2021 Dwight Barkley\n"
   ]
  }
 ],
 "metadata": {
  "kernelspec": {
   "display_name": "Python 3 (ipykernel)",
   "language": "python",
   "name": "python3"
  },
  "language_info": {
   "codemirror_mode": {
    "name": "ipython",
    "version": 3
   },
   "file_extension": ".py",
   "mimetype": "text/x-python",
   "name": "python",
   "nbconvert_exporter": "python",
   "pygments_lexer": "ipython3",
   "version": "3.9.7"
  }
 },
 "nbformat": 4,
 "nbformat_minor": 4
}
