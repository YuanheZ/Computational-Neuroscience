{
 "cells": [
  {
   "cell_type": "markdown",
   "metadata": {},
   "source": [
    "# Introduction to Jupyter Notebooks and Python \n",
    "\n",
    "*This is the first in a series of notebooks that will teach you, via a collection of small code examples, how to write and use Python for mathematics and science.* \n",
    "\n",
    "There are many online tutorials available for both more elementary and more in-depth treatments. The Moodle page lists those that we have found to be the most useful. "
   ]
  },
  {
   "cell_type": "markdown",
   "metadata": {},
   "source": [
    "---\n",
    "## The Jupyter notebook\n",
    "\n",
    "This is what you are reading now.  Notebooks allow one to put Python code, text, formulas and figures all in the same document. While there are other ways to write and run Python code (Spyder and PyCharm for example), this module will be taught and assessed exclusively via these notebooks.\n",
    "\n",
    "In order to execute the Python code in a cell:\n",
    "\n",
    "- click within the cell to activate it\n",
    "- run the code with `shift+enter` or by clicking the triangular play button above (associated text \"Run selected cell and advance\")\n",
    "\n",
    "Try to run (execute) the cell below. "
   ]
  },
  {
   "cell_type": "code",
   "execution_count": null,
   "metadata": {},
   "outputs": [],
   "source": [
    "print(\"Hello world\")"
   ]
  },
  {
   "cell_type": "markdown",
   "metadata": {},
   "source": [
    "---\n",
    "\n",
    "- For the remainder of the course, whenever you encounter a cell with Python code, you should run the code. \n",
    "- Many times during the next several weeks you will surely type `enter` when you meant `shift+enter`. You may have already done so. Just undo that `enter` as you would normally undo edits, and type `shift+enter`.\n",
    "\n",
    "- Do not be afraid to try things. You can play with the code in these examples by editing it and looking to see what happens. You can always undo your edits, or if necessary, download a clean version of the notebook from the Moodle page. Trying things is the way to learn!\n",
    "\n",
    "**Exercise:** As a first simple exercise, go back to the cell above containing the print statement. Click within `Hello world` and change the text to something else, (keeping the quotations `\" \"`). Run the cell again with `shift+enter`."
   ]
  },
  {
   "cell_type": "markdown",
   "metadata": {},
   "source": [
    "---\n",
    "## JupyterLab\n",
    "\n",
    "You are running this notebook inside JupyterLab. You will need to become familiar with JupyterLab interface, but it is difficult to illustrate the interface from within a notebook. For this you should view the videos on the Moodle page. Most importantly you should learn:\n",
    "\n",
    "- How to create notebooks and organise your notebooks via the file browser. (Over the term you will run a lot of notebooks, so you want to keep them organised. We suggest organising by week.)\n",
    "- The difference between `edit mode` and `command mode`, and the difference between `Code` cells and `Markdown` cells.\n",
    "- The basic command mode shortcuts, as well as splitting and merging cells (available by right-clicking the mouse). You probably won't need much cell manipulation beyond these.\n",
    "\n",
    "- Running cells and restarting the kernel.    \n",
    " \n",
    "There are a few specific exercises for this below. It is up to you master these things as needed as you work through the exercises below and exercises in later notebooks. "
   ]
  },
  {
   "cell_type": "markdown",
   "metadata": {},
   "source": [
    "---\n",
    "## A first computation in Python\n",
    "\n",
    "Let's start with a first real example, a very simple Python code that computes an approximation to $\\pi$ using the Leibniz formula\n",
    "\n",
    "$$\n",
    "    \\frac{\\pi}{4} = 1 - \\frac{1}{3} + \\frac{1}{5} - \\frac{1}{7} + \\frac{1}{9} + \\cdots  = \n",
    "    \\sum_{k=0}^{\\infty} \\frac{ (-1)^k}{2k+1}\n",
    "$$\n"
   ]
  },
  {
   "cell_type": "code",
   "execution_count": null,
   "metadata": {},
   "outputs": [],
   "source": [
    "# Python code to approximate pi using a finite number of terms in the Leibniz formula\n",
    "\n",
    "N = 10000\n",
    "total = 0.0\n",
    "for k in range(N):\n",
    "    total += (-1) ** k / (2 * k + 1)\n",
    "\n",
    "my_pi = 4 * total\n",
    "print(\"The estimate for pi using\", N, \"terms in the Leibniz formula is\", my_pi)"
   ]
  },
  {
   "cell_type": "markdown",
   "metadata": {},
   "source": [
    "To repeat: it is understood throughout these notebooks that whenever you encounter a code cell with Python, you are expect to run that cell unless you are told explicitly not to. So run the code cell above if you did not already."
   ]
  },
  {
   "cell_type": "markdown",
   "metadata": {},
   "source": [
    "---\n",
    "By the end of this week's notebooks we will have discussed all the Python you need to fully understand this example. Hopefully, even without knowing Python you can see a correspondence between the computer code and the Leibniz formula. \n",
    "\n",
    "- Comments in the code start with `#`. These lines are not executed. They are for humans to read.\n",
    "\n",
    "- The code initialises two variables: `N`, which sets the number of terms to add in the approximation, and `total`, which is initially zero, but is modified to eventually contain the sum of terms in the series. As in virtually all programming languages, the symbol `=` means assignment. The variable on the left is assigned the value on the right. When the computer executes the statement `N = 10000`, immediately afterwards, the variable `N` has the value 10000. \n",
    "\n",
    "- There is a block of code (called a `for loop`) that is executed repeatedly (N times). This computes and adds the terms in the formula. **The block structure of Python is entirely defined from the indentation**. Lines that are indented by the same amount belong to the same block. Python forces your code to *look good*!\n",
    "\n",
    "- A final variable `my_pi` is computed from the total and used to store the approximation to $\\pi$. One could give this variable a different name, such as `pi_approx`. (We recommend against using the variable name `pi` for this approximation to $\\pi$.)\n",
    "\n",
    "- Output from the program, in this case the estimate of $\\pi$, comes from the `print` statement. As you can see, basic printing is easy in Python. You can use either single quotes `' ... '` or double quotes `\" ... \"` for text. A few basic printing tips will appear in later examples. It is possible to format the output in great detail, but this will not a high priority for us. (Please investigate this yourself later as required.) "
   ]
  },
  {
   "cell_type": "markdown",
   "metadata": {},
   "source": [
    "**Exercise:** Go back to the code cell approximating $\\pi$, change N to 100 and rerun the cell. Try with other values of N. When finished, set N back to 10000 and rerun the cell a final time."
   ]
  },
  {
   "cell_type": "markdown",
   "metadata": {
    "tags": []
   },
   "source": [
    "---\n",
    "## Jupyter markdown language\n",
    "\n",
    "We end this brief overview of Python and JupyterLab with a discussion of the Jupyter's Markdown language. This is a key element in giving life to the notebooks. \n",
    "\n",
    "The cell above with the text **A first computation in Python** is of type \"Markdown\". Double click within that cell to see the Markdown text. To re-render the cell, type `shift enter`, just as for running Python in code cells. You can also look at the Markdown text for this current cell as well, and then re-render it. \n",
    "\n",
    "Typesetting basic text is easy. `#`, `##` etc are used to denote headings, `*` is used to denote italic, `**` is used to denote bold, etc. Within the JupyterLab Help menu you will find the *Markdown Reference*. You will need to refer to this (or some page one finds on the web) as needed to create nice looking notebooks. \n",
    "\n",
    "Notice that `$ ... $` is used for inline mathematical equations, e.g. $x=1$, while `$$ ... $$` is used for displayed mathematical equations, e.g. the Leibniz formula above. Go up again and look at the Markdown language in that cell and note the inline `$\\pi$` versus the displayed Leibniz formula.\n",
    "\n",
    "You will need to learn basic Jupyter markdown language for typesetting text and equations. You should not start memorising the syntax, but rather observe what is possible and refer back here or to the help as needed. Here are a few basic maths examples (double-click to see the Markdown text and then re-render):\n",
    "\n",
    ">  **some key maths typesetting examples**\n",
    "> - Greek letters: $\\alpha$, $\\beta$, $\\pi$, etc.\n",
    "> - common functions: $\\sin$, $\\cos$, $\\log$, $\\exp$\n",
    "> - subscript and superscripts: $x_1$, $u^n$. (Superscript and powers both use `^`.)\n",
    "> - fractions: $\\frac{a}{1+ b}$ \n",
    "> - summation $\\sum_{i=0}^\\infty$\n",
    "> - integration: $\\int_0^1 f(x) dx$\n",
    "\n",
    "The typesetting of the equation follows closely the syntax of LaTex, the typesetting language used throughout mathematics. You can learn more by looking at examples in later notebooks and by looking up LaTex commands for things you might need. Wikipedia uses essentially the same conventions for typesetting maths and that might be helpful at times. Again, Markdown language at the level we require is not difficult. If anything the reward to effort ratio is very high. \n",
    "\n",
    "Finally, in going through the course you may occasionally find that Markdown cells are not rendered. You can render them individually via `shift enter`, but you may also want to render all of them. In the Run menu in the top menu bar you will find Render All Markdown Cells. \n"
   ]
  },
  {
   "cell_type": "markdown",
   "metadata": {},
   "source": [
    "---\n",
    "# Exercises\n",
    "\n",
    "---\n",
    "\n",
    "## The Jupyter notebook\n",
    "\n",
    "1. Restart the Kernel and Clear All Outputs for this notebook. Verify that the Python output in the above cells (*Hello world* and approximation to $\\pi$) is gone.\n",
    "\n",
    "2. Run All Cells in this notebook and verify that the output is back.\n",
    "\n",
    "3. Insert a cell below this current cell. Enter `print(\"whatever you want\")`, with whatever text you want. Run the cell. Try changing the double quotes `\" \"` to single quotes `' '` and running again. You see that you can use either.\n",
    "\n",
    "---"
   ]
  },
  {
   "cell_type": "markdown",
   "metadata": {},
   "source": [
    "4. Insert a cell below this current cell and print N and my_pi. Notice that N and my_pi have values from running the cell near the top of the notebook.\n",
    "\n",
    "---"
   ]
  },
  {
   "cell_type": "markdown",
   "metadata": {},
   "source": [
    "5. Restart the Kernel and Clear All Outputs. Then click and run the cell just above (answer to question 4) where you print N and my_pi. An error will occur since the kernel restart cleared all variables. Run All Cells again. Now everything should be fine. \n",
    "\n",
    "This last question illustrates three points: 1) if you assign a variable a value in a cell and execute the cell, then the value is remembered outside the cell. 2) restarting the kernel clears variables until you again run the cell. 3) you can run cells out of the order they appear in a notebook. This must be done with care. \n",
    "\n",
    "This is already getting into details best left for later. We will return to this, so don't feel you need to understand the details of the kernel."
   ]
  },
  {
   "cell_type": "markdown",
   "metadata": {},
   "source": [
    "---\n",
    "## Markdown language\n",
    "\n",
    "6. Go to the Help menu and open the Markdown Reference (this will open in a new tab)\n",
    "7. Review the basic markdown language commands\n",
    "\n",
    "8. There is a cell below this current one. Change its type to Markdown. \n",
    "\n",
    "9. Within that cell, (in Edit mode) write your first name in italics and your last name in bold. \n",
    "\n",
    "    On a new line, write the equation for the area $A$ of a circle in terms of its radius $r$ as an inline math equation.\n",
    "\n",
    "    Write the expression for the integral of $e^{-x}$ for x from -1 to infinity as a displayed math equation. (Hint: everything you need is contained in the Markdown in this notebook. You need to figure out how to get $-x$ as an exponent, $-1$ as a subscript, and you need the infinity symbol.)\n",
    "    \n",
    "Finally, take a moment to play a bit now with the Markdown language. Try typesetting some other maths and try a few of the other features such as sections and horizontal lines. Try changing the Markdown cell to a code cell and seeing how Jupyter interprets it.  Then change it back."
   ]
  },
  {
   "cell_type": "code",
   "execution_count": null,
   "metadata": {},
   "outputs": [],
   "source": []
  },
  {
   "cell_type": "markdown",
   "metadata": {},
   "source": [
    "---\n",
    "# Answers and Comments\n",
    "---\n",
    "\n",
    "Expand cells (click on left margin) to see answers and comments on selected exercises. "
   ]
  },
  {
   "cell_type": "markdown",
   "metadata": {},
   "source": [
    "Q4. "
   ]
  },
  {
   "cell_type": "code",
   "execution_count": null,
   "metadata": {
    "jupyter": {
     "source_hidden": true
    }
   },
   "outputs": [],
   "source": [
    "# Presumably you got this, but printing N and my_pi could be done on\n",
    "# two lines\n",
    "print(N)\n",
    "print(my_pi)\n",
    "\n",
    "# or one line\n",
    "print(N, my_pi)\n",
    "\n",
    "# or on one line with some better formatting\n",
    "print(\"N is\", N, \"and my_pi is\", my_pi)"
   ]
  },
  {
   "cell_type": "markdown",
   "metadata": {},
   "source": [
    "Q9."
   ]
  },
  {
   "cell_type": "markdown",
   "metadata": {},
   "source": [
    "The cell below shows a model answer. If you go to edit mode you can see the markdown language used to answer the question. If you render the cell (`shift enter`) you will see the result. The answer should be clear given the summary of maths typesetting commands above. Things to note: A new line requires a blank line.  Subscripts and superscripts that consist of more that one symbol need curly braces `{ }`. It will be obvious when you forget this. "
   ]
  },
  {
   "cell_type": "markdown",
   "metadata": {},
   "source": [
    "*Dwight* **Barkley**\n",
    "\n",
    "$A = \\pi r^2$\n",
    "\n",
    "$$\n",
    "\\int_{-1}^\\infty e^{-x} dx = e\n",
    "$$"
   ]
  },
  {
   "cell_type": "markdown",
   "metadata": {},
   "source": [
    "---\n",
    "\n",
    "Copyright (C) 2021 Dwight Barkley\n"
   ]
  }
 ],
 "metadata": {
  "kernelspec": {
   "display_name": "Python 3 (ipykernel)",
   "language": "python",
   "name": "python3"
  },
  "language_info": {
   "codemirror_mode": {
    "name": "ipython",
    "version": 3
   },
   "file_extension": ".py",
   "mimetype": "text/x-python",
   "name": "python",
   "nbconvert_exporter": "python",
   "pygments_lexer": "ipython3",
   "version": "3.9.7"
  }
 },
 "nbformat": 4,
 "nbformat_minor": 4
}
