{
 "cells": [
  {
   "cell_type": "markdown",
   "metadata": {},
   "source": [
    "# Slicing\n",
    "\n",
    "Slicing is a powerful way to refer to multiple elements of sequences. Slicing permeates many manipulations of vectors and matrices, and it is used extensively in scientific coding. It is not difficult in principle, but it can appear cryptic in some circumstances. We introduce it here so that you will recognise it, but will give you more practice later.\n",
    "\n",
    "---\n",
    "\n",
    "Let s be a string, or a list, then \n",
    "\n",
    "- `s[i]` is the ith item or element of s. (This we have seen already and is a trivial slice.)\n",
    "\n",
    "- `s[i:j]` is a slice of s from i to j, meaning the elements starting with i and with ending j-1. \n",
    "\n",
    "- `s[i:j:k]` slice of s from i to j in steps of k. \n",
    "\n",
    "You will see the similarity to the notation for range, except here one uses `:` to denote a slice. Importantly, you can leave either start or stop blank, in which case the start is zero and stop is the length of the sequence. \n",
    "\n",
    "- `s[:]` is a slice from `0` to `len(s)`, meaning elements `s[0]` to `s[len(s)-1]`, that is all elements of `s`.\n",
    "\n",
    "- `s[::]` same as `s[:]` since again default values are used for start, stop and step.\n",
    "\n",
    "- `s[n:]` is a slice from `n` to `len(s)`\n",
    "\n",
    "- `s[::k]` is slice from `0` to `len(s)` in steps of k\n",
    "\n",
    "Negative start or stop indicates backwards from the end of the sequence.\n",
    "\n",
    "- `s[-1]` is the last element of s.\n",
    "- `s[-n:]` is a slice from `len(s)-n` to `len(s)`, .i.e. the last n elements of s.\n",
    "\n",
    "Negative step counts backwards from the end\n",
    "\n",
    "- `s[::-1]` is all the elements of s in reverse order.\n",
    "\n",
    "From these rules, think about what will be output from each of the print statements in the cell below. Run the cell and confirm your prediction. "
   ]
  },
  {
   "cell_type": "code",
   "execution_count": null,
   "metadata": {},
   "outputs": [],
   "source": [
    "s = list(range(10))\n",
    "print(s)\n",
    "\n",
    "print(s[:])\n",
    "print(s[4:])\n",
    "print(s[::2])\n",
    "print(s[-2])\n",
    "print(s[-4:])\n",
    "print(s[::-1])"
   ]
  },
  {
   "cell_type": "markdown",
   "metadata": {},
   "source": [
    "These cover the main situations we will need. It is best to first master these important cases.\n"
   ]
  },
  {
   "cell_type": "markdown",
   "metadata": {},
   "source": [
    "---\n",
    "# Exercise\n",
    "\n",
    "Use range to create a list of integers from -10 to 10 including 10. Using slicing\n",
    "\n",
    "- print all the entries in the list\n",
    "- print the first three entries\n",
    "- print the last three entries\n",
    "- print every other entry (those with even index)\n",
    "- print all elements in reverse order"
   ]
  },
  {
   "cell_type": "markdown",
   "metadata": {},
   "source": [
    "---\n",
    "# Answer\n",
    "---\n"
   ]
  },
  {
   "cell_type": "code",
   "execution_count": null,
   "metadata": {
    "jupyter": {
     "source_hidden": true
    }
   },
   "outputs": [],
   "source": [
    "values = list(range(-10,11))\n",
    "\n",
    "print(values[:])\n",
    "\n",
    "print(values[:3])\n",
    "print(values[-3:])\n",
    "print(values[::2])\n",
    "print(values[::-1])"
   ]
  },
  {
   "cell_type": "markdown",
   "metadata": {},
   "source": [
    "---"
   ]
  },
  {
   "cell_type": "markdown",
   "metadata": {},
   "source": [
    "# Final review of the week's material\n",
    "\n",
    "We won't provide any further exercises, but direct you once again to w3schools pages. We have now covered most of (but not all of) what is contained in the pages:\n",
    "\n",
    "https://www.w3schools.com/python/python_comments.asp\n",
    "\n",
    "to \n",
    "\n",
    "https://www.w3schools.com/python/python_tuples.asp\n",
    "\n",
    "inclusive, plus [for loops](https://www.w3schools.com/python/python_for_loops.asp), [while loops](https://www.w3schools.com/python/python_while_loops.asp)\n",
    "and [if ... else](https://www.w3schools.com/python/python_conditions.asp). Please review as needed all these pages. \n",
    "\n",
    "*If you have understood all this material in one week, you are on a good track!*"
   ]
  },
  {
   "cell_type": "markdown",
   "metadata": {},
   "source": [
    "---\n",
    "\n",
    "Copyright (C) 2021 Dwight Barkley"
   ]
  }
 ],
 "metadata": {
  "kernelspec": {
   "display_name": "Python 3 (ipykernel)",
   "language": "python",
   "name": "python3"
  },
  "language_info": {
   "codemirror_mode": {
    "name": "ipython",
    "version": 3
   },
   "file_extension": ".py",
   "mimetype": "text/x-python",
   "name": "python",
   "nbconvert_exporter": "python",
   "pygments_lexer": "ipython3",
   "version": "3.9.7"
  }
 },
 "nbformat": 4,
 "nbformat_minor": 4
}
