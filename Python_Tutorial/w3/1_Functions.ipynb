{
 "cells": [
  {
   "cell_type": "markdown",
   "metadata": {},
   "source": [
    "# Introduction to Functions\n",
    "\n",
    "Functions are a key element of all programming languages. They allow for the modular construction of complex programmes and efficient reuse of code.\n"
   ]
  },
  {
   "cell_type": "markdown",
   "metadata": {},
   "source": [
    "\n",
    "In Python, functions are defined using the `def` keyword. They *optionally* can take inputs known as `arguments` or `parameters`. (We will use both terms.) Functions can *optionally* return a value with the `return` keyword. A Python function looks like:\n",
    "\n",
    "```\n",
    "def function_name(optional function arguments):\n",
    "    body of function with Python statements\n",
    "    return value (optional)\n",
    "```\n",
    "The line starting `def` ends with a colon `:` and the body of the function is indented. \n",
    "\n",
    "One can then **call the function** in some other line of Python code and the function will perform the actions specified in the body of the function. If the function has input parameters, when we call the function these are said to be **passed** to the function.\n",
    "\n",
    "---\n",
    "Let us look at examples:"
   ]
  },
  {
   "cell_type": "code",
   "execution_count": null,
   "metadata": {},
   "outputs": [],
   "source": [
    "# Define a function print_hello(name) that prints a welcome message\n",
    "# This function does not return a value.\n",
    "def print_hello(name):\n",
    "    print(\"Hello\", name, \"welcome to MA124\")"
   ]
  },
  {
   "cell_type": "markdown",
   "metadata": {},
   "source": [
    "The above cell must be run (executed) even though it does not produce any output.\n",
    "\n",
    "One can then call the function. The value for the input argument will be passed to the function and it will perform its computations, in this case the print statement. "
   ]
  },
  {
   "cell_type": "code",
   "execution_count": null,
   "metadata": {},
   "outputs": [],
   "source": [
    "print_hello(\"Robert\")\n",
    "print_hello(\"Aashi\")\n",
    "print_hello(\"Siri\")"
   ]
  },
  {
   "cell_type": "markdown",
   "metadata": {},
   "source": [
    "It is worth emphasising that once a cell with a function definition has been run, then that function can be used in any subsequent cell. If you edit the function, then you must rerun the cell for the edits to take effect (and of course you must also rerun the cell if you restart the kernel).\n",
    "\n",
    "---\n",
    "\n",
    "**mini-exercise:** Edit the function `print_hello()` to change the welcome message to say \"Maths by Computer\" where is currently says \"MA124\", but don't rerun the cell. Run the cell calling the function and note that the welcome message has not changed. Now run the cell with the function definition and run the cell calling the function. \n",
    "\n",
    "\n",
    "---\n",
    "Here is a slightly more realistic example of a function"
   ]
  },
  {
   "cell_type": "code",
   "execution_count": null,
   "metadata": {},
   "outputs": [],
   "source": [
    "# This function computes the polar radius of a Cartesian point (x,y)\n",
    "def radius(x, y):\n",
    "    r = (x**2 + y**2)**0.5\n",
    "    return r"
   ]
  },
  {
   "cell_type": "markdown",
   "metadata": {},
   "source": [
    "We can now call the function `radius()`"
   ]
  },
  {
   "cell_type": "code",
   "execution_count": null,
   "metadata": {},
   "outputs": [],
   "source": [
    "a = radius(1, 1)\n",
    "print(a)"
   ]
  },
  {
   "cell_type": "code",
   "execution_count": null,
   "metadata": {},
   "outputs": [],
   "source": [
    "b = radius(-2, 1)\n",
    "print(b)"
   ]
  },
  {
   "cell_type": "code",
   "execution_count": null,
   "metadata": {},
   "outputs": [],
   "source": [
    "# or with variables\n",
    "u = -2\n",
    "v = 1\n",
    "\n",
    "c = radius(u, v)\n",
    "print(c)"
   ]
  },
  {
   "cell_type": "markdown",
   "metadata": {},
   "source": [
    "The variable names used to call the function do not have to be the same as those in the definition of the function, and very often they are not. This is consistent with usual mathematical convention, e.g., we define a function $f(x)$ as\n",
    "$$\n",
    "f(x) = 1 - x^2\n",
    "$$\n",
    "\n",
    "but are happy to evaluate the function with a variable other than $x$, .e.g., $f(a)$, $f(b)$, $f(t)$ etc."
   ]
  },
  {
   "cell_type": "markdown",
   "metadata": {},
   "source": [
    "---\n",
    "Return statements can contain expressions. If they do, the expressions are evaluated first and then the result is returned. For example, the previous function could be written\n"
   ]
  },
  {
   "cell_type": "code",
   "execution_count": null,
   "metadata": {},
   "outputs": [],
   "source": [
    "def radius(x, y):\n",
    "    return (x**2 + y**2)**0.5"
   ]
  },
  {
   "cell_type": "code",
   "execution_count": null,
   "metadata": {},
   "outputs": [],
   "source": [
    "a = radius(1, 1)\n",
    "print(a)"
   ]
  },
  {
   "cell_type": "markdown",
   "metadata": {},
   "source": [
    "---\n",
    "In practice the functions we use are of two types: \n",
    "\n",
    "1. Those that compute things very much like mathematical functions, as for the above function radius. The Python function has a direct correspondence with a mathematical expression: $r = \\sqrt{x^2+y^2}$.\n",
    "\n",
    "2. Functions that perform tasks, often very substantial tasks, such as solving an ODE or training an artificial neural network. In some programming languages and texts these would be referred to as subroutines or sub-programmes. They can often consume most of the computation time of running a program. \n",
    "\n",
    "There is not a rigorous distinction between these, but it is useful to be aware that functions we see and that you will write will generally be of one of these two types. \n",
    "\n",
    "Notation: You may have already noticed that when referring to function names above we included parentheses, e.g., `print_hello()` and `radius()`. This is common usage that emphasises to the reader that these are function names and not variable names. \n"
   ]
  },
  {
   "cell_type": "markdown",
   "metadata": {},
   "source": [
    "---\n",
    "\n",
    "**Exercise:** In the cell below, write a function that takes three arguments, $a$, $b$ and $c$, and returns $b^2 - 4ac$. Give the function a name you feel is appropriate. In the cell below that, call the function for a few values of $a$, $b$ and $c$, and print the result. "
   ]
  },
  {
   "cell_type": "code",
   "execution_count": null,
   "metadata": {},
   "outputs": [],
   "source": []
  },
  {
   "cell_type": "code",
   "execution_count": null,
   "metadata": {},
   "outputs": [],
   "source": []
  },
  {
   "cell_type": "markdown",
   "metadata": {},
   "source": [
    "---\n",
    "Expand the cell below to see model answer and comments."
   ]
  },
  {
   "cell_type": "code",
   "execution_count": null,
   "metadata": {
    "jupyter": {
     "source_hidden": true
    },
    "tags": []
   },
   "outputs": [],
   "source": [
    "# The name was your choice. Here Discrim() is used (Discriminant is rather long). \n",
    "# Delta would be another natural choice.\n",
    "# Note that it is not necessary put the function definition in a separate cell.\n",
    "# Here the function definition and calls to the function are in a single cell.\n",
    "\n",
    "def Discrim(a, b, c):\n",
    "    return b**2 - 4*a*c\n",
    "\n",
    "a = 1\n",
    "b = 4\n",
    "c = 4\n",
    "print(Discrim(a, b, c))\n",
    "\n",
    "a = -1\n",
    "b = 4\n",
    "c = 4\n",
    "print(Discrim(a, b, c))\n",
    "\n",
    "# note that while the function arguments are called a, b and c, we do not need to \n",
    "# call the function with variables call a, b and c. We can call with other variables.\n",
    "\n",
    "x = 4\n",
    "y = 1\n",
    "z = 1\n",
    "print(Discrim(x, y, z))"
   ]
  },
  {
   "cell_type": "markdown",
   "metadata": {},
   "source": [
    "---\n",
    "## Further details\n",
    "\n",
    "Functions provide a lot of flexibility and we will not cover the full generality of functions. We will restrict our focus to the essential things you need for this module. After you gain experience, you may want to study properties of functions in more depth."
   ]
  },
  {
   "cell_type": "markdown",
   "metadata": {},
   "source": [
    "### Returning multiple values\n",
    "\n",
    "Functions can return multiple values. Let us first look at a simple example and then discuss it."
   ]
  },
  {
   "cell_type": "code",
   "execution_count": null,
   "metadata": {},
   "outputs": [],
   "source": [
    "# Given a and b this function returns both the sum and difference of a and b. \n",
    "\n",
    "def my_function(a, b):\n",
    "    sum = a + b\n",
    "    diff = a - b\n",
    "    return sum, diff"
   ]
  },
  {
   "cell_type": "code",
   "execution_count": null,
   "metadata": {},
   "outputs": [],
   "source": [
    "s, d = my_function(2,3)\n",
    "print(s,d)"
   ]
  },
  {
   "cell_type": "markdown",
   "metadata": {},
   "source": [
    "This is the typical way we will use function returning multiple values: \n",
    "- we put a comma separated list of variables on the return line *inside* the function. \n",
    "- we put a comma separated list of variables on the left-hand side of the `=` when we call the function. \n",
    "\n",
    "However, you should understand that the function is returning a tuple, and the values in that tuple are then assigned to variables, in this case $s$ and $d$. (If you have forgotten tuples, see notebook 4 from week 1 or [w3schools](https://www.w3schools.com/python/python_tuples.asp).)\n",
    "\n",
    "One could write this explicitly as in the following code. "
   ]
  },
  {
   "cell_type": "code",
   "execution_count": null,
   "metadata": {},
   "outputs": [],
   "source": [
    "# including () on the return line to make explicit that the function is returning a tuple. \n",
    "# This is for illustration only. It is not wrong, but it is not generally used.\n",
    "\n",
    "def my_function(a, b):\n",
    "    sum = a + b\n",
    "    diff = a - b\n",
    "    # explicitly return a tuple\n",
    "    return (sum, diff)"
   ]
  },
  {
   "cell_type": "markdown",
   "metadata": {},
   "source": [
    "Now call this function with some values and explicitly assign the result to a tuple."
   ]
  },
  {
   "cell_type": "code",
   "execution_count": null,
   "metadata": {},
   "outputs": [],
   "source": [
    "my_tuple = my_function(2, 3)\n",
    "\n",
    "print(type(my_tuple))\n",
    "print(my_tuple)"
   ]
  },
  {
   "cell_type": "markdown",
   "metadata": {},
   "source": [
    "Recall how we can extract the values from a tuple."
   ]
  },
  {
   "cell_type": "code",
   "execution_count": null,
   "metadata": {},
   "outputs": [],
   "source": [
    "s, d = my_tuple\n",
    "print(s, d)"
   ]
  },
  {
   "cell_type": "markdown",
   "metadata": {},
   "source": [
    "---\n",
    "To summarise: functions returning multiple values are actually returning a single tuple. In practice we write a comma separated list, e.g.,\n",
    "```\n",
    "s, d = my_function(2,3)\n",
    "```\n",
    "You should understand that more precisely the function is returning a single tuple and we are extracting values from that tuple. Separating those two steps looks like:\n",
    "```\n",
    "my_tuple = my_function(2,3)\n",
    "s, d = my_tuple\n",
    "```"
   ]
  },
  {
   "cell_type": "markdown",
   "metadata": {},
   "source": [
    "---\n",
    "> Pro tip: you may want to call a function that returns multiple values, but you do not need all the values that are returned. You can assign these to `_` (the underline symbol). For example, suppose that a function `box_size()` returns three values `height, width, depth`, but you only need the width. You can use: `_, width, _ = box_size()`."
   ]
  },
  {
   "cell_type": "markdown",
   "metadata": {},
   "source": [
    "---\n",
    "\n",
    "### Default arguments\n",
    "\n",
    "Functions can have default values for input arguments. Default values will be assigned to arguments if no argument value is passed during function call. The default value is specified in the function definition by using assignment `=` operator in the input argument list. For example:"
   ]
  },
  {
   "cell_type": "code",
   "execution_count": null,
   "metadata": {},
   "outputs": [],
   "source": [
    "# Redefine our function print_hello() so that the input argument name has a default value.\n",
    "def print_hello(name=\"John Doe\"):\n",
    "    print(\"Hello\", name, \"welcome to MA124\")"
   ]
  },
  {
   "cell_type": "code",
   "execution_count": null,
   "metadata": {},
   "outputs": [],
   "source": [
    "# We can now call the function with the name argument \n",
    "print_hello(\"Robert\")\n",
    "print_hello(\"Aashi\")\n",
    "print_hello(\"Siri\")\n",
    "\n",
    "# or without the name argument\n",
    "print_hello()"
   ]
  },
  {
   "cell_type": "markdown",
   "metadata": {},
   "source": [
    "---\n",
    "\n",
    "Here is another example"
   ]
  },
  {
   "cell_type": "code",
   "execution_count": null,
   "metadata": {},
   "outputs": [],
   "source": [
    "# This function returns y = slope * x + intercept\n",
    "# where slope and intercept have default values\n",
    "\n",
    "def my_line(x, slope=1, intercept=0):\n",
    "    y = slope * x + intercept\n",
    "    return y"
   ]
  },
  {
   "cell_type": "markdown",
   "metadata": {},
   "source": [
    "Call with three arguments and print the returned value"
   ]
  },
  {
   "cell_type": "code",
   "execution_count": null,
   "metadata": {},
   "outputs": [],
   "source": [
    "y = my_line(3, 2, 1)\n",
    "print(\"y =\", y)"
   ]
  },
  {
   "cell_type": "markdown",
   "metadata": {},
   "source": [
    "---\n",
    "\n",
    "Before running the next cell, think about what the output will be. Then run the cell to check your understanding."
   ]
  },
  {
   "cell_type": "code",
   "execution_count": null,
   "metadata": {},
   "outputs": [],
   "source": [
    "y = my_line(3, 2)\n",
    "print(\"y =\", y)"
   ]
  },
  {
   "cell_type": "markdown",
   "metadata": {},
   "source": [
    "---\n",
    "\n",
    "Before running the next cell, think about what the output will be. Then run the cell to check your understanding."
   ]
  },
  {
   "cell_type": "code",
   "execution_count": null,
   "metadata": {},
   "outputs": [],
   "source": [
    "y = my_line(3)\n",
    "print(\"y =\", y)"
   ]
  },
  {
   "cell_type": "markdown",
   "metadata": {},
   "source": [
    "---\n",
    "\n",
    "Once there is a default argument in the argument list, all other input arguments to its right must also have default values. You do not need to worry too much about this point since we will not write functions (at least not many) with default arguments. \n",
    "\n",
    "You will, however, be calling many functions with default values and so understanding the concept of default arguments is important. There is nothing to memorise here since, as with many things in Python, this will come naturally.\n",
    "\n",
    "---\n",
    "\n",
    "### Keyword arguments\n",
    "\n",
    "When we call a function with some values, such as in the examples above, these values get assigned to the arguments according to their position, e.g., the first was assigned to `x`, the next to `slope`, the next to `intercept`. \n",
    "However, Python also allows functions to be called using keyword arguments, that is using the argument names in the definition of the function. When a function is called in this way, the order (position) of the arguments can be changed. This is particularly advantageous if a function has many arguments, since you do not need to remember or look up the order of the arguments. This is easy in practice, just note that keyword arguments must follow any positional arguments.\n"
   ]
  },
  {
   "cell_type": "markdown",
   "metadata": {},
   "source": [
    "---\n",
    "\n",
    "In the cell below we call the function `my_line()` with keyword arguments. The order of arguments is different from the order in the function definition."
   ]
  },
  {
   "cell_type": "code",
   "execution_count": null,
   "metadata": {},
   "outputs": [],
   "source": [
    "y = my_line(x=3, intercept=4, slope=-1)\n",
    "print(\"y =\", y)"
   ]
  },
  {
   "cell_type": "markdown",
   "metadata": {},
   "source": [
    "**mini-exercise:** Edit the previous cell to change to order of the keyword arguments and notice that the value of `y` does not change. Also, create a typo by changing `slope=-1` to `slop=-1` and rerun so that you see the error message that will appear if you mistype a keyword name.\n",
    "\n",
    "---\n",
    "\n",
    "Before running the next cell, think about what the output will be. Then run the cell to check your understanding."
   ]
  },
  {
   "cell_type": "code",
   "execution_count": null,
   "metadata": {},
   "outputs": [],
   "source": [
    "y = my_line(3, intercept=4)\n",
    "print(\"y =\", y)"
   ]
  },
  {
   "cell_type": "markdown",
   "metadata": {},
   "source": [
    "You should understand that the first argument `3` is passed to the function positionally so that `x=3`, `intercept` is passed as a keyword argument, and `slope` is not passed at all and therefore takes the default value.\n",
    "\n",
    "---\n",
    "\n",
    "Keyword arguments must come after all positional arguments. Execute the following cell and see the error message produced. "
   ]
  },
  {
   "cell_type": "code",
   "execution_count": null,
   "metadata": {},
   "outputs": [],
   "source": [
    "y = my_line(3, slope=-1, 4)\n",
    "print(\"y =\", y)"
   ]
  },
  {
   "cell_type": "markdown",
   "metadata": {},
   "source": [
    "**micro-exercise:** Presume the user wanted to call with `intercept = 4`. Fix the problem so that the cell runs without error."
   ]
  },
  {
   "cell_type": "markdown",
   "metadata": {},
   "source": [
    "---\n",
    "\n",
    "#### Summary of default and keyword arguments\n",
    "\n",
    "For many library functions that we will call later we will use a mixture of positional and keyword arguments, with many arguments taking their default values. While Python makes this very easy and natural, it is helpful to understand what default arguments and keyword arguments are, and to understand their syntax."
   ]
  },
  {
   "cell_type": "markdown",
   "metadata": {},
   "source": [
    "---\n",
    "### Local scope\n",
    "\n",
    "A variable created inside a function can only be used inside that function. It is a **local variable** to that function only and is said to have **local scope**. Once the function terminates, all local variables are cleared. "
   ]
  },
  {
   "cell_type": "code",
   "execution_count": null,
   "metadata": {},
   "outputs": [],
   "source": [
    "def radius(x, y):\n",
    "    r = (x**2 + y**2)**0.5\n",
    "    print(\"inside the function r is\", r)\n",
    "    return r"
   ]
  },
  {
   "cell_type": "code",
   "execution_count": null,
   "metadata": {},
   "outputs": [],
   "source": [
    "x = 5\n",
    "y = 2\n",
    "a = radius(x, y)\n",
    "print(\"a is\", a)\n",
    "\n",
    "# r is not known outside the function so the statement below will not work\n",
    "# print(\"outside the function r is\", r) "
   ]
  },
  {
   "cell_type": "markdown",
   "metadata": {},
   "source": [
    "**Exercise:** Uncomment the print statement in the above cell and rerun it to see that `r` is not known outside of the function."
   ]
  },
  {
   "cell_type": "markdown",
   "metadata": {},
   "source": [
    "---\n",
    "The next thing to understand is that a variable created in a function may have the same name as a variable outside the function. **These are treated as distinct variables**. Setting a value to a local variable inside a function has no effect on a variable with the same name with scope outside of the function. "
   ]
  },
  {
   "cell_type": "code",
   "execution_count": null,
   "metadata": {},
   "outputs": [],
   "source": [
    "def radius(x, y):\n",
    "    r = (x**2 + y**2)**0.5\n",
    "    print(\"inside the function r is\", r) \n",
    "    return r"
   ]
  },
  {
   "cell_type": "code",
   "execution_count": null,
   "metadata": {},
   "outputs": [],
   "source": [
    "# variable r outside of the function\n",
    "r = 13\n",
    "\n",
    "x = 5\n",
    "y = 2\n",
    "a = radius(x,y)\n",
    "print(\"outside the function\")\n",
    "print(\"r is\", r)\n",
    "print(\"a is\", a)"
   ]
  },
  {
   "cell_type": "markdown",
   "metadata": {},
   "source": [
    "---\n",
    "**It is essential that you understand that variables created inside a function have local scope. They are local to that function only and once the function terminates, those variables no longer exist and the values are lost. Even if the local variable name is the same as a variable name elsewhere, they are in fact two distinct variables.**\n",
    "\n",
    "\n",
    "This is the only aspect of **variable scope** that it is essential for you to understand at this point. This \n",
    "behaviour is also the same for all scientific programming languages that I am aware of. \n",
    "\n",
    "That's the easy part. The full story is very much more complicated and is also language dependent.\n",
    "\n",
    "\n",
    "---\n",
    "### Global scope\n",
    "\n",
    "A variable created in the main body of a Python code is a *global variable*. It has **global scope** and can be accessed both inside or outside of functions."
   ]
  },
  {
   "cell_type": "code",
   "execution_count": null,
   "metadata": {},
   "outputs": [],
   "source": [
    "# define a function with no arguments. It only prints the value of the variable mu\n",
    "def print_mu():\n",
    "  print(\"value of mu is\", mu)"
   ]
  },
  {
   "cell_type": "code",
   "execution_count": null,
   "metadata": {},
   "outputs": [],
   "source": [
    "# now define the variable mu outside the function. \n",
    "# mu is a global variable as so is known inside the function print_mu().\n",
    "mu = 0.1\n",
    "print_mu()"
   ]
  },
  {
   "cell_type": "markdown",
   "metadata": {},
   "source": [
    "---\n",
    "\n",
    "Further details of variable scope and how arguments are passed to functions in Python are not necessary for this module. However, these details are important to understand if you pursue advanced computation in Python or any other language. The clearest explanation of the technical aspects that I have found is [here](https://www.python-course.eu/passing_arguments.php). See also the *Review and further study* section below. \n"
   ]
  },
  {
   "cell_type": "markdown",
   "metadata": {},
   "source": [
    "---\n",
    "### Multiple return statements\n",
    "\n",
    "Functions can contain any number of return statements, as in this example"
   ]
  },
  {
   "cell_type": "code",
   "execution_count": null,
   "metadata": {},
   "outputs": [],
   "source": [
    "def my_factorial(n):\n",
    "    if n == 0:\n",
    "        return 1\n",
    "    else:\n",
    "        prod = 1\n",
    "        for k in range(1,n+1):\n",
    "            prod *= k\n",
    "        return prod"
   ]
  },
  {
   "cell_type": "code",
   "execution_count": null,
   "metadata": {},
   "outputs": [],
   "source": [
    "print(my_factorial(0))\n",
    "print(my_factorial(3))"
   ]
  },
  {
   "cell_type": "markdown",
   "metadata": {},
   "source": [
    "This example is only meant to illustrate multiple return statements in a function. The function itself is not very robust in that it assumes you have called it with a non-negative integer. \n",
    "\n",
    "Many people consider it poor programming practice to have many return statements in a function (some would argue that there should be at most one). This will not be an issue for us. You can read online debates on this point if you are interested."
   ]
  },
  {
   "cell_type": "markdown",
   "metadata": {},
   "source": [
    "---\n",
    "## Docstring\n",
    "\n",
    "As we know, in Python comments begin with a hash `#` and are added to code to make it easier for a reader to understand what a particular piece of code is doing.\n",
    "\n",
    "In Python, **docstrings** provide another way to add descriptive information to a function. These are most easily explained via example."
   ]
  },
  {
   "cell_type": "code",
   "execution_count": null,
   "metadata": {},
   "outputs": [],
   "source": [
    "def radius(x, y):\n",
    "    '''Returns the distance from the origin of a point (x, y).'''\n",
    "    r = (x**2 + y**2)**0.5\n",
    "    print(\"inside the function r is\", r) \n",
    "    return a"
   ]
  },
  {
   "cell_type": "markdown",
   "metadata": {},
   "source": [
    "The first line inside the function is the docstring. It is contained in triple quotes (either triple single quotes or triple double quotes). In this case it is a simple, one-line description of the function stating what is returned. The difference between a docstring and a comment is that the docstring is accessible outside the function, essentially as a help message. You should think of docstrings as providing explanations to the user so that a function can be understood and used without looking at the function code itself. \n",
    "\n",
    "In JupyterLab you can access the help message either by putting the cursor in the name of the function and typing `shift+tab` on the keyboard (`shift` and `tab` keys simultaneously). You must be in edit more for this to work. Click in the cell below and try using the `shift+tab` method to see the docstring. "
   ]
  },
  {
   "cell_type": "code",
   "execution_count": null,
   "metadata": {},
   "outputs": [],
   "source": [
    "radius(1,1)"
   ]
  },
  {
   "cell_type": "markdown",
   "metadata": {},
   "source": [
    "We will not discuss further details of docstrings. It is important that you recognise a docstring when you see one, either in a piece of code, or more likely when you seek help on a function you are trying to use. \n",
    "\n",
    "> Pro tip: It is good programming practice to provide brief descriptions of all functions. The basic information to provide is what the function does, what its input arguments are and what it returns. You can provide this information with a few comment lines or a doc string. "
   ]
  },
  {
   "cell_type": "markdown",
   "metadata": {},
   "source": [
    "---\n",
    "\n",
    "# Review and further study\n",
    "\n",
    "We covered a lot of material above, and there are a lot of details about functions to eventually absorb. However, basic writing and calling functions is not difficult in Python. Almost all that you will need to know to write functions is covered by the exercises below, plus what you learn from the NumPy notebook. \n",
    "\n",
    "The [w3schools page on functions](https://www.w3schools.com/python/python_functions.asp) covers much the same material as above (plus a little more). We recommend it for reinforcement after attempting the exercises below.\n",
    "\n",
    "Scope is a secondary concept as far as we are concerned. The more you understand the better, but do not get hung up on it. There is a [w3schools page on scope](https://www.w3schools.com/python/python_scope.asp).\n"
   ]
  },
  {
   "cell_type": "markdown",
   "metadata": {},
   "source": [
    "---\n",
    "# Exercises\n",
    "\n",
    "As always, for each question first create a new code cell below the question to write your answer. If you are not told to use a specific function name, the function names are your choice. \n"
   ]
  },
  {
   "cell_type": "markdown",
   "metadata": {},
   "source": [
    "---\n",
    "1. Write a function `normalise()` that takes two arguments $a$ and $b$ and returns two values $\\frac{a}{(a^2+b^2)^{1/2}}$ and $\\frac{b}{(a^2+b^2)^{1/2}}.$ (In real life you would want to check that $a^2+b^2 \\ne 0$, but you do not need to do this in this exercise.) \n",
    "\n",
    "    Call the functions and print the result. Specifically, after defining the function test it with the following \n",
    "\n",
    "```\n",
    "d1, d2 = normalise(3 ,4)\n",
    "print(d1, d2)\n",
    "print(type(d1), type(d2))\n",
    "print(d1**2+d2**2)\n",
    "print()\n",
    "\n",
    "d = normalise(3, 4) \n",
    "print(d)\n",
    "print(type(d))\n",
    "print(d[0]**2 + d[1]**2) \n",
    "```\n",
    "\n",
    "Make sure you understand the output. While we will typically use the first form, you should understand the second form."
   ]
  },
  {
   "cell_type": "markdown",
   "metadata": {},
   "source": [
    "---\n",
    "2. Write a function that takes three arguments, $x$, $y$, $z$ and returns $|x| + |y| + |z|$ and $(x^2 + y^2 + z^2)^{1/2}$ and the maximum of $|x|$,  $|y|$, and $|z|$.\n",
    "\n",
    "    Use `if` statements to compute the last case. Later we will use efficient Python functions to compute these if needed. This is only for practice writing functions and using if statements.\n",
    "\n",
    "    Call the function with some simple inputs and print the resulting values. \n",
    "    \n",
    "    Then call the function only saving the middle output to a variable `L2`. (Ignore the first and third return values.)\n",
    "    \n",
    "(Side note: the three returned quantities are all measures of distance, known formally as norms. You will recognise the second as the usual Euclidean distance between the origin and $(x,y,z)$. This is also called the 2-norm.)"
   ]
  },
  {
   "cell_type": "markdown",
   "metadata": {},
   "source": [
    "---\n",
    "\n",
    "3. Write a function `print_backward(list_in)` that prints the entries of the list `list_in` in reverse order. (We are never going to let you forget slicing.). After this works, write another function `return_backward(list_in)` that returns a list with the elements in reverse order of `list_in`. Call this function and print the returned list to check that it is correct. "
   ]
  },
  {
   "cell_type": "markdown",
   "metadata": {},
   "source": [
    "---\n",
    "\n",
    "4. To understand the context of this question, you might want to look first at the Wikipedia page on the [logistic map](https://en.wikipedia.org/wiki/Logistic_map).\n",
    "\n",
    "   a. Write a function `logistic(x)` that evaluates the logistic function\n",
    "$$\n",
    "f(x) = \\mu x (1-x)\n",
    "$$\n",
    "\n",
    "    where $\\mu$ is a parameter for the function (Wikipedia uses $r$ for this parameter). In your Python function treat this as global variable that will be set outside the function. \n",
    "    \n",
    "    Now write Python code that sets `mu=0.5` and `x=0.5`. Then using a `for loop`, do the following 20 times: `x = logistic(x)`, so that the variable `x` gets replaced by the logistic function evaluated at the previous value of `x`. This is known as iteration. Put a print statement in the `for loop` to print the values of `x`. Run your code. You should see that `x` decreases towards zero. Now set `mu=2.5`. You should find that `x` goes towards 0.6 (see [here](https://en.wikipedia.org/wiki/Logistic_map#Behavior_dependent_on_r).) You may check this part of your code against the answer below before continuing. \n",
    "    \n",
    "    b. There are many things to improve your code and investigate iterations of the logistic map. For example, increase the number of iterations in your `for loop`. Maybe introduce a variable `N` that sets the number of iterations. For large `N` you might not want to print all the value of `x`, so maybe print only the last 10 or 20. Think about how you can do this with if statements. Finally, try different values of `mu`. The Wikipedia page explains what you should observe for different values of `mu`."
   ]
  },
  {
   "cell_type": "markdown",
   "metadata": {},
   "source": [
    "---\n",
    "# Answers and Comments\n",
    "---\n",
    "\n",
    "Expand cells (click on left margin) to see answers and comments on selected exercises.\n"
   ]
  },
  {
   "cell_type": "markdown",
   "metadata": {},
   "source": [
    "Q1 answer and comments"
   ]
  },
  {
   "cell_type": "code",
   "execution_count": null,
   "metadata": {
    "jupyter": {
     "source_hidden": true
    },
    "tags": []
   },
   "outputs": [],
   "source": [
    "# Q1 answer\n",
    "\n",
    "def normalise(a, b):\n",
    "    denom = (a**2+b**2)**0.5\n",
    "    return a/denom, b/denom\n",
    "\n",
    "d1, d2 = normalise(3 ,4)\n",
    "print(d1, d2)\n",
    "print(type(d1), type(d2))\n",
    "print(d1**2+d2**2)\n",
    "print()\n",
    "\n",
    "d = normalise(3, 4) \n",
    "print(d)\n",
    "print(type(d))\n",
    "print(d[0]**2 + d[1]**2) \n",
    "\n",
    "# We have normalised so that d**2 + d**2 = 1 always."
   ]
  },
  {
   "cell_type": "markdown",
   "metadata": {},
   "source": [
    "Q2 answer and comments"
   ]
  },
  {
   "cell_type": "code",
   "execution_count": null,
   "metadata": {
    "jupyter": {
     "source_hidden": true
    },
    "tags": []
   },
   "outputs": [],
   "source": [
    "# Q2 answer\n",
    "\n",
    "# I use my_norm as the function name because I know that this function\n",
    "# is computing norms. The reason for the variable name norm_inf will\n",
    "# be clear to you in the future. \n",
    "\n",
    "# In this example comments just after the function definition provide \n",
    "# a short description the function. \n",
    "\n",
    "# There are many ways to compute the third case with if statements. \n",
    "# As long as what you did produces the right result, then it is correct.\n",
    "# You should understand why the method below is correct. It is likely\n",
    "# simpler than what you did.\n",
    "\n",
    "def my_norm(x, y, z):\n",
    "    # Input arguments are three components of a vector,\n",
    "    # Returned are the 1-norm, 2-norm, and infinity norm of the vector.\n",
    "    \n",
    "    norm1 = abs(x) + abs(y) + abs(z)\n",
    "    norm2 = (x**2 + y**2 + z**2)**0.5\n",
    "    \n",
    "    norm_inf = abs(x)\n",
    "    if norm_inf < abs(y):\n",
    "        norm_inf = abs(y)\n",
    "    if norm_inf < abs(z):\n",
    "        norm_inf = abs(z)\n",
    "    return norm1, norm2, norm_inf\n",
    "\n",
    "s = 1\n",
    "v = 3\n",
    "w = -1\n",
    "print(my_norm(s,v,w))\n",
    "\n",
    "_, L2, _ = my_norm(s,v,w)\n",
    "print(L2)"
   ]
  },
  {
   "cell_type": "markdown",
   "metadata": {},
   "source": [
    "Q3 answer and comments"
   ]
  },
  {
   "cell_type": "code",
   "execution_count": null,
   "metadata": {
    "jupyter": {
     "source_hidden": true
    },
    "tags": []
   },
   "outputs": [],
   "source": [
    "# Q3 answer\n",
    "\n",
    "# Advice to those new to Python. One could start by simply echoing back list_in, \n",
    "# as in the function below that is commented out. As trivial as this seems, it is\n",
    "# sometimes a good place to start. You can call print_backward and at least know \n",
    "# what list_in looks like inside the function. From last week you should know\n",
    "# how to use slicing to print the values in reverse order.\n",
    "\n",
    "# def print_backward(list_in):\n",
    "#    print(list_in)\n",
    "\n",
    "\n",
    "def print_backward(list_in):\n",
    "    print(list_in[-1::-1])\n",
    "    \n",
    "# test print_backwards\n",
    "list_in = [10, 20, 30, 45, 72]\n",
    "print_backward(list_in)\n",
    "\n",
    "\n",
    "def return_backward(list_in):\n",
    "    return list_in[-1::-1]\n",
    "\n",
    "# test return_backward\n",
    "list_out = return_backward(list_in)\n",
    "print(list_out)"
   ]
  },
  {
   "cell_type": "markdown",
   "metadata": {
    "tags": []
   },
   "source": [
    "Q4(a) answer and comments\n"
   ]
  },
  {
   "cell_type": "code",
   "execution_count": null,
   "metadata": {
    "jupyter": {
     "source_hidden": true
    },
    "tags": []
   },
   "outputs": [],
   "source": [
    "# define the logistic function\n",
    "def logistic(x):\n",
    "    return mu*x*(1-x)\n",
    "\n",
    "# set parameter mu and initial value of x\n",
    "mu = 2.5\n",
    "x = 0.5\n",
    "\n",
    "# iterate the function and print the result of each iteration\n",
    "for n in range(20):\n",
    "    x = logistic(x)\n",
    "    print(x)\n"
   ]
  },
  {
   "cell_type": "markdown",
   "metadata": {
    "tags": []
   },
   "source": [
    "Q4(b) answer and comments\n"
   ]
  },
  {
   "cell_type": "code",
   "execution_count": null,
   "metadata": {
    "jupyter": {
     "source_hidden": true
    },
    "tags": []
   },
   "outputs": [],
   "source": [
    "# define the logistic function\n",
    "def logistic(x):\n",
    "    return mu*x*(1-x)\n",
    "\n",
    "# set parameter mu and initial value of x and the number of iterations N\n",
    "mu = 3.2  # this value of mu will give oscillations between two value of x. \n",
    "x = 0.5\n",
    "N = 500\n",
    "\n",
    "# iterate the function and print the result of the last 10 iterations\n",
    "for n in range(N):\n",
    "    x = logistic(x)\n",
    "    if n >= N - 10:\n",
    "        print(x)\n"
   ]
  },
  {
   "cell_type": "markdown",
   "metadata": {},
   "source": [
    "---\n",
    "\n",
    "Copyright (C) 2021-2022 Dwight Barkley"
   ]
  }
 ],
 "metadata": {
  "kernelspec": {
   "display_name": "Python 3 (ipykernel)",
   "language": "python",
   "name": "python3"
  },
  "language_info": {
   "codemirror_mode": {
    "name": "ipython",
    "version": 3
   },
   "file_extension": ".py",
   "mimetype": "text/x-python",
   "name": "python",
   "nbconvert_exporter": "python",
   "pygments_lexer": "ipython3",
   "version": "3.9.7"
  }
 },
 "nbformat": 4,
 "nbformat_minor": 4
}
