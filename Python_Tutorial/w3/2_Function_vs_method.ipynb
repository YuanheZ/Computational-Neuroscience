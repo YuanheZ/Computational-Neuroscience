{
 "cells": [
  {
   "cell_type": "markdown",
   "metadata": {},
   "source": [
    "# Function vs Method\n",
    "\n",
    "You will soon realise that for many of the library \"functions\" that we call, the documentation refers to *methods* and not *functions*. You will also notice a `.` in the name. For our purposes the distinction between methods and functions can be ignored. If something acts like a function, then treat it like a function and you will be fine. The important thing is to be able to call correctly the function/method to perform the task you need. \n",
    "\n",
    "Put simply\n",
    "\n",
    "> A method is like a function, except that it is attached to an object. \n",
    "\n",
    "The remainder of the material in this notebook is optional. If you are new to Python, you probably will want to skip it. Of course, the more one understands the better, so maybe come back later when it might make more sense.\n",
    "\n",
    "---\n",
    "\n",
    "\n",
    "This short notebook will give you some flavour of the distinction between *methods* and *functions*, and hopefully help you to better understand the `.` notation and what you read in the documentation of the various libraries.\n",
    "\n",
    "The material below has been modified from the [Data Flair](https://data-flair.training/blogs/python-method-and-function/) and also borrows from the [w3schools page on Python classes](https://www.w3schools.com/python/python_classes.asp).\n",
    "\n",
    "---\n",
    "\n",
    "## Functions\n",
    "\n",
    "These are stand-alone pieces of code that can be defined to accept whatever input the programmer decides and return whatever values the programmer decides. We have seen examples such as"
   ]
  },
  {
   "cell_type": "code",
   "execution_count": null,
   "metadata": {},
   "outputs": [],
   "source": [
    "# user defined function\n",
    "def add(a,b):\n",
    "    return a+b \n",
    "\n",
    "a = 3\n",
    "b = -2\n",
    "print(add(1,1))"
   ]
  },
  {
   "cell_type": "code",
   "execution_count": null,
   "metadata": {},
   "outputs": [],
   "source": [
    "# built-in functions\n",
    "\n",
    "print(max(a,b))\n",
    "print(abs(a),abs(b))\n",
    "print(float(a),b)"
   ]
  },
  {
   "cell_type": "markdown",
   "metadata": {},
   "source": [
    "## Methods\n",
    "\n",
    "For this we need to consider Python classes, not in detail, just enough to illustrate what methods are. \n",
    "\n",
    "We define a Python class called *person* as follows"
   ]
  },
  {
   "cell_type": "code",
   "execution_count": null,
   "metadata": {},
   "outputs": [],
   "source": [
    "class person:\n",
    "    def __init__(self, age, job):\n",
    "        self.age = age\n",
    "        self.job = job\n",
    "\n",
    "    def show_age(self):\n",
    "        print(\"My age is\", self.age)    \n",
    "    def show_job(self):\n",
    "        print(\"My job is\", self.job)\n",
    "        \n",
    "    def change_age(self, new_age):\n",
    "        self.age = new_age\n",
    "    def change_job(self, new_job):\n",
    "        self.job = new_job"
   ]
  },
  {
   "cell_type": "markdown",
   "metadata": {},
   "source": [
    "You will see that inside the *person class* are lines with the keyword `def` that look just like function definitions. **These are methods**. The methods are associated with the class.  \n",
    "\n",
    "Below is how you could then use this class to create three objects, corresponding to three persons, and then call the methods associated with these objects. "
   ]
  },
  {
   "cell_type": "code",
   "execution_count": null,
   "metadata": {},
   "outputs": [],
   "source": [
    "# create and initialise three objects, i.e. persons\n",
    "Robert = person(20, 'teacher')\n",
    "Aashi = person(42, 'architect')\n",
    "Siri = person(32, 'bus driver')"
   ]
  },
  {
   "cell_type": "code",
   "execution_count": null,
   "metadata": {},
   "outputs": [],
   "source": [
    "# call methods to print information\n",
    "Robert.show_job()\n",
    "Aashi.show_age()\n",
    "Robert.show_job()"
   ]
  },
  {
   "cell_type": "code",
   "execution_count": null,
   "metadata": {},
   "outputs": [],
   "source": [
    "# call methods to change variables that below to a object\n",
    "Robert.change_age(34)\n",
    "Robert.change_job('head master')\n",
    "\n",
    "Robert.show_age()\n",
    "Robert.show_job()"
   ]
  },
  {
   "cell_type": "markdown",
   "metadata": {},
   "source": [
    "Note that the syntax to call a method is `object.method(arguments)`. \n",
    "\n",
    "\n",
    "The key difference between calling a method and calling a function is that methods have access to the data within the object, in this example the age and job of a person. Hence the methods `Robert.show_job()` and `Aashi.show_job()` do different things, because `Robert` and `Aashi` are different objects, but  the underlying code `print(\"My job is\", self.job)` is the same for both.\n",
    "\n",
    "---\n",
    "\n",
    "The essential distinction between methods and functions is thus:\n",
    "\n",
    "- A method is called on an object. It can access and alter the data within it.\n",
    "\n",
    "- A function is not tied to an object and can be called more generically. Python functions usually only operate on input data and local (internal) variables within the function. Once a function terminates, all local variables are cleared. \n"
   ]
  },
  {
   "cell_type": "markdown",
   "metadata": {},
   "source": [
    "---\n",
    "\n",
    "Copyright (C) 2021-2022 Dwight Barkley"
   ]
  }
 ],
 "metadata": {
  "kernelspec": {
   "display_name": "Python 3 (ipykernel)",
   "language": "python",
   "name": "python3"
  },
  "language_info": {
   "codemirror_mode": {
    "name": "ipython",
    "version": 3
   },
   "file_extension": ".py",
   "mimetype": "text/x-python",
   "name": "python",
   "nbconvert_exporter": "python",
   "pygments_lexer": "ipython3",
   "version": "3.9.7"
  }
 },
 "nbformat": 4,
 "nbformat_minor": 4
}
