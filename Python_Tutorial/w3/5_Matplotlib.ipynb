{
 "cells": [
  {
   "cell_type": "markdown",
   "metadata": {},
   "source": [
    "# Introduction to the Matplotlib library\n",
    "\n",
    "Matplotlib is a comprehensive library for creating static, animated, and interactive visualisations in Python. It is well worth having a quick browse of this [gallery](https://matplotlib.org/gallery/index.html).\n",
    "\n",
    "We will be exclusively use the Pyplot interface [matplotlib.pyplot](https://matplotlib.org/api/_as_gen/matplotlib.pyplot.html#module-matplotlib.pyplot). \n",
    "We import this library and alias the name to `plt`.  Hence the following appears at the beginning of every subsequent notebook in this module."
   ]
  },
  {
   "cell_type": "code",
   "execution_count": null,
   "metadata": {},
   "outputs": [],
   "source": [
    "import numpy as np\n",
    "import matplotlib.pyplot as plt"
   ]
  },
  {
   "cell_type": "markdown",
   "metadata": {},
   "source": [
    "\n",
    "\n",
    "Almost everything we do in the module will require a plot. We cover the most common aspects of plotting by showing examples. A short **cheat-sheet** is provided at the end to give you a compact summary to refer to in the future.  \n",
    "\n",
    "Plots made for the exercises in these notebooks do not require much labelling, but for your assignments you are expected to produce clear, attractive, well-labelled plots. \n",
    "\n",
    "---\n",
    "## First examples\n",
    "\n",
    "Suppose we want to plot $\\cos(x)$ for $x$ in the interval $[ 0, 2\\pi ]$. We use NumPy to generate arrays and Matplotlib to plot."
   ]
  },
  {
   "cell_type": "code",
   "execution_count": null,
   "metadata": {},
   "outputs": [],
   "source": [
    "x = np.linspace(0, 2*np.pi, 101)\n",
    "y = np.cos(x)\n",
    "\n",
    "plt.plot(x, y)\n",
    "plt.show()"
   ]
  },
  {
   "cell_type": "markdown",
   "metadata": {},
   "source": [
    "We end the plot with `plt.show()`. This is not strictly necessary if the cell generates only one plot. Nevertheless, I suggest you always end your plots with it. \n",
    "\n",
    "**mini-exercise:** Edit the above cell to comment out `plt.show()` and re-run the cell. You will see that your notebook looks nicer when you include `plt.show()`. You must use `plt.show()` after each plot if you want to generate multiple plots in a single cell.\n",
    "\n",
    "---\n",
    "\n",
    "Suppose we want to graph both $\\cos(x)$ and $\\sin(x)$ in a single plot, then we just call `plt.plot` twice."
   ]
  },
  {
   "cell_type": "code",
   "execution_count": null,
   "metadata": {},
   "outputs": [],
   "source": [
    "x = np.linspace(0, 2*np.pi, 101)\n",
    "y1 = np.cos(x)\n",
    "y2 = np.sin(x)\n",
    "\n",
    "plt.plot(x, y1)\n",
    "plt.plot(x, y2)\n",
    "plt.show()"
   ]
  },
  {
   "cell_type": "markdown",
   "metadata": {},
   "source": [
    "Automatically the curves are plotted with different colours. \n",
    "\n",
    "**Exercise:** Edit the above cell and add additional curves for $-\\cos(x)$ and $-\\sin(x)$. Note, you do not need to generate more data -- try `plt.plot(x, -y1)`.\n",
    "You can even add a plot of $\\cos(x) - \\sin(x)$.\n",
    "You should now see even more colours.\n",
    "\n",
    "---\n",
    "\n",
    "If one has points that are not thought of as lying on a curve, e.g. random points, one often uses `plt.scatter` to plot the points."
   ]
  },
  {
   "cell_type": "code",
   "execution_count": null,
   "metadata": {},
   "outputs": [],
   "source": [
    "x_points = [0.30503564, 0.28704602, 0.81363848, 0.00905997, 0.3060196,  0.67298062]\n",
    "y_points = [0.9993576,  0.46946084, 0.47750036, 0.22195069, 0.09919323, 0.36825787]\n",
    "\n",
    "plt.scatter(x_points, y_points)\n",
    "plt.show()"
   ]
  },
  {
   "cell_type": "markdown",
   "metadata": {},
   "source": [
    "\n",
    "\n",
    "**Exercise:** Edit the cell above to change `plt.scatter` to` plt.plot`and re-run the cell.\n",
    "\n",
    "**Review Question:** What type of variable are `x_points` and `y_points`? Use `type()` to confirm your answer. Suppose you wanted `x_points` and `y_points` to be np.arrays, what would you do? (Answer is in the second compute cell of the NumPy notebook.)"
   ]
  },
  {
   "cell_type": "markdown",
   "metadata": {},
   "source": [
    "---\n",
    "## Making plots pretty\n",
    "\n",
    "What we have just seen is already a large percentage of what you will need to use in working through future notebooks. However, we will want to control more precisely the look of your plots. This will be important for your assignments.\n",
    "\n",
    "We illustrate the most common features below using examples. We do not explain all of the optional values for point types etc. Instead, a **cheat-sheet** is provided at the end to give you a compact summary that you can refer to in the future. "
   ]
  },
  {
   "cell_type": "code",
   "execution_count": null,
   "metadata": {},
   "outputs": [],
   "source": [
    "# This time only 31 points and change variable names for variety\n",
    "theta = np.linspace(0, 2*np.pi, 31)\n",
    "f1 = np.cos(theta)\n",
    "f2 = np.sin(theta)\n",
    "\n",
    "# The plot with line styling\n",
    "plt.plot(theta, f1, color='blue', linestyle='-',  linewidth=3, marker='o', label=\"cosine\")\n",
    "plt.plot(theta, f2, color='red',  linestyle='--', linewidth=2, marker='x', label=\"sine\")\n",
    "\n",
    "# Add title, labels, and set specific plot limits. \n",
    "plt.title(\"Two functions\", fontsize=20)\n",
    "plt.xlabel(\"theta\", fontsize=18)\n",
    "plt.ylabel(\"cos(theta), sin(theta)\", fontsize=18)\n",
    "plt.legend(fontsize=14)\n",
    "plt.xlim(0, 2*np.pi)\n",
    "plt.ylim(-1.2, 1.2)\n",
    "plt.show()\n"
   ]
  },
  {
   "cell_type": "markdown",
   "metadata": {},
   "source": [
    "The labels that appear in the legend are set by the `label =` keyword arguments in the calls to `plt.plot()`. \n",
    "\n",
    "**Exercise:** Try changing the font sizes and plot limits in the plot above. Change the labels for the two curves to some other names. \n",
    "\n",
    "**Exercise:** Comment out the `plt.legend` line.\n",
    "\n",
    "---\n",
    "Optionally: if you want to label your axes with mathematical symbols, rather than words, you can use the following.\n",
    "```\n",
    "plt.xlabel(r\"$\\theta$\", fontsize=18)\n",
    "plt.ylabel(r\"$\\cos(\\theta)$, $\\sin(\\theta)$\", fontsize=18)\n",
    "```\n",
    "\n",
    "This is included here so that you know the possibility exists. It is not required.\n"
   ]
  },
  {
   "cell_type": "markdown",
   "metadata": {},
   "source": [
    "## Shortcut notation\n",
    "\n",
    "Many of the most useful options can be expressed compactly using shortcut notation:"
   ]
  },
  {
   "cell_type": "code",
   "execution_count": null,
   "metadata": {},
   "outputs": [],
   "source": [
    "# Again 31 points as above\n",
    "theta = np.linspace(0, 2*np.pi, 31)\n",
    "f1 = np.cos(theta)\n",
    "\n",
    "# Now produce plots using shortcut style\n",
    "# 'o-r' means: plot points as circles, use a solid line connecting points, red colour\n",
    "# linewidth is shortened to lw\n",
    "plt.plot(theta, f1, 'o-r', lw=2)  \n",
    "plt.show()"
   ]
  },
  {
   "cell_type": "markdown",
   "metadata": {},
   "source": [
    "(The circle is produced with the letter `o` not the number `0`.) \n",
    "\n",
    "**Exercise:** Edit the above cell to change the point type from circle `o` to `*` and the colour to blue `b`. Re-run the cell. Then change to line style from solid `-` to dashed `--`, and re-run again. Remove `--`, so that no line is plotted, only points. Finally, the ordering of these specifications does not matter, e.g., `'o-r'` is the same as `'-ro'`. Change the order and re-run. \n",
    "\n",
    "Recall docstrings. In the cell above, put the cursor in the `plot` part of `plt.plot`. Then `shift+tab` should show the docstring. You can scroll the window that pops up. You should recognise quite a bit of the documentation."
   ]
  },
  {
   "cell_type": "markdown",
   "metadata": {},
   "source": [
    "## More examples\n",
    "\n",
    "Here are more examples of what you can do. Probably you should not spend much time on these now but come back to them as necessary. "
   ]
  },
  {
   "cell_type": "code",
   "execution_count": null,
   "metadata": {},
   "outputs": [],
   "source": [
    "# plot monomials a log-log scale in a 6 x 6 box with a grid.\n",
    "# (the default figsize is 6.4 x 4.8)\n",
    "\n",
    "t = np.arange(0, 3, 0.05)\n",
    "x = 10**t\n",
    "\n",
    "plt.figure(figsize=(6,6)) # here we set the figure size\n",
    "plt.loglog(x, x**2, 'o', lw=1, label='y = x^2')\n",
    "plt.loglog(x, x**3, '*', lw=1, label='y = x^3')\n",
    "plt.loglog(x, x**4, '^', lw=1, label='y = x^4')\n",
    "\n",
    "plt.legend()\n",
    "plt.grid(True) # here we include the grid\n",
    "\n",
    "plt.xlabel('x', fontsize=14)\n",
    "plt.ylabel('monomials', fontsize=14)\n",
    "plt.title('monomials on a log-log plot', fontsize=18)\n",
    "plt.show()\n",
    "\n",
    "# Examples of subplots\n",
    "\n",
    "x = np.arange(0, 3, 0.05)\n",
    "y1 = np.exp(x) * (np.sin(5 * x))\n",
    "y2 = np.exp(x) * (np.cos(5 * x))\n",
    "\n",
    "# make subplots (one on top of another)\n",
    "plt.subplot(211)  # 2 rows, 1 column, first plot\n",
    "plt.plot(x, y1,'-r', lw=3, label='a text label')\n",
    "plt.legend()\n",
    "plt.ylabel('y1', fontsize=14)\n",
    "plt.title('My title', fontsize=18)\n",
    "\n",
    "plt.subplot(212)  # 2 rows, 1 column, second plot\n",
    "plt.plot(x, y2, '--b', lw=3, label='$e^{x} \\cos(5 x)$')\n",
    "plt.legend()\n",
    "plt.xlabel('t', fontsize=14)\n",
    "plt.ylabel('y2', fontsize=14)\n",
    "\n",
    "plt.show()\n",
    "\n",
    "# make subplots (side by side)\n",
    "plt.subplot(121)  # 1 row, 2 columns, first plot\n",
    "plt.plot(x, y1, '-r', lw=3, label='a text label')\n",
    "plt.legend()\n",
    "plt.ylabel('y1', fontsize=14)\n",
    "plt.xlabel('t', fontsize=14)\n",
    "plt.title('My title left', fontsize=18)\n",
    "\n",
    "plt.subplot(122)   # 1 row, 2 columns, second plot\n",
    "plt.plot(x, y2, '--b', lw=3, label='$e^{x} \\cos(5 x)$')\n",
    "plt.legend()\n",
    "plt.xlabel('t', fontsize=14)\n",
    "plt.title('My title right', fontsize=18)\n",
    "\n",
    "plt.show()"
   ]
  },
  {
   "cell_type": "markdown",
   "metadata": {},
   "source": [
    "---\n",
    "\n",
    "## Further information\n",
    "\n",
    "Matplotlib can make pretty much any plot you can think of. The best strategy is to look for examples, see the code that produced them and adapt that to your needs. Starting points would be\n",
    "\n",
    "- The [matplotlib](http://matplotlib.org) website.\n",
    "\n",
    "- The [matplotlib introduction](http://www.scipy-lectures.org/intro/matplotlib) of the scipy lectures.\n",
    "\n",
    "and of course Google.\n",
    "\n",
    "**However,** you will soon observe that many examples you find use the construction `ax.something`. It would be too much for us to cover this now, so we leave it for later. "
   ]
  },
  {
   "cell_type": "markdown",
   "metadata": {},
   "source": [
    "---\n",
    "\n",
    "## Short cheat sheet of essential plotting commands and options:\n",
    "\n",
    "- line and point plots: `plt.plot()`, `plt.loglog()`, `plt.semilogx()`, `plt.semilogy()`, `scatter()`\n",
    "\n",
    "- subplots: `plt.subplot()`\n",
    "\n",
    "- histograms: `plt.hist()`, (easy and covered later) \n",
    "\n",
    "- Line styles `linestyle= ` or `lw= `:    `-`, `--`, `-.`, `:`, (from solid to dotted)\n",
    "\n",
    "- Marker styles `marker= `:   `'.'`, `'o'`, `'v'`, `'^'`, `'<'`, `'>'`, `'*'`, `'+'`, `'s'`, `'d'`\n",
    "\n",
    "- Colours `color=`:   `'b'`, `'g'`, `'r'`, `'c'`, `'m'`, `'y'`, `'k'`, `'w'`\n",
    "\n",
    "- `plt.title()`\n",
    "- `plt.xlabel()`, `plt.ylabel()`\n",
    "- `plt.legend()`\n",
    "- `plt.xlim(xmin, xmax)`, `plt.ylim(ymin, ymax)`, (for precise control of plot limits, often unnecessary)\n",
    "- `plt.xticks(list)`, `plt.yticks(list)`, (for precise control of tickmarks, often unnecessary)\n",
    "- `plt.grid(True)`\n",
    "\n",
    "- Titles and labels probably require additional `fontsize=12` to `fontsize=20` to be clearly readable.\n",
    "\n",
    "- If you want to change the size of plots, use `plt.figure(figsize=(width,height))`. Default values are 6.4 and 4.8.  \n",
    "\n",
    "- End each plot with `plt.show()`.\n",
    "\n",
    "---"
   ]
  },
  {
   "cell_type": "markdown",
   "metadata": {},
   "source": [
    "\n",
    "# Exercises\n",
    "\n",
    "Create code cells below each question to write your answer. "
   ]
  },
  {
   "cell_type": "markdown",
   "metadata": {},
   "source": [
    "---\n",
    "\n",
    "1. Plot a graph of the function $f(x) = 1/(1+x^2)$ for $x$ in the range $-10 \\le x \\le 10$. Label the axes and give the plot a simple title. Generally for a task such as this you are free to choose how many points to use in your np.arrays. Typically, 101 is good, but sometimes you may need more to generate smooth curves. This is the type of plot you should learn to generate quickly using NumPy and Matplotlib. (Note, you generated the needed np.arrays already in Q3 the NumPy notebook. Look there if you need to.) \n",
    "\n",
    "    Explore using different colours and different line styles. Try using `plt.grid()` to show a grid. "
   ]
  },
  {
   "cell_type": "markdown",
   "metadata": {},
   "source": [
    "---\n",
    "\n",
    "2. In a single code cell, write Python code to plot a graph of the function $g(t) = \\sin(t + \\pi/8)$ and in a separate plot, a graph of \n",
    "$h(t) = e^{-t} \\cos(t)$. In both cases use $t$ in the interval $[0, 2\\pi]$. Label the axes and give each plot a title. This question is very similar to Q1, but reinforces that you need to know how to produce separate plots in a single code cell."
   ]
  },
  {
   "cell_type": "markdown",
   "metadata": {},
   "source": [
    "---\n",
    "\n",
    "3. In Q4 of the NumPy notebook you geneated an approximation to the exponential function. Plot that approximation together with the true exponential function on a single plot. Use linestyles, colours, a legend etc as necessary to make the plot readable. Notice how this is a much better way of checking the approximation than printing out values as was done in the NumPy notebook.\n",
    "\n",
    "    The approximation depends on the number of terms used (there are `N+1` terms). Once you have generated the plot, try changing `N` and running the cell again to observe how the approximation changes as `N` changes.\n",
    "    \n",
    "    Bonus worth doing: plot using `semilogy` to plot the y-axis on a logarithmic scale. Do you understand the resulting plot?"
   ]
  },
  {
   "cell_type": "markdown",
   "metadata": {},
   "source": [
    "---\n",
    "\n",
    "4. At the end of the NumPy notebook you wrote Python code for some parameterised curves. You can now plot those curves. Create two code cells below and copy the parameterisations from Q5(a) and Q5(b) into them. Plot the curve from Q5(a). The helix from Q5(b) is a 3D curve but we have only learned to make 2D plots thus far. You can plot pairs of variables corresponding to different views. Plot $(x,y)$, $(x,z)$ and $(y,z)$ views. Can you see the helix? Add titles and axis labels to the figure."
   ]
  },
  {
   "cell_type": "markdown",
   "metadata": {},
   "source": [
    "---\n",
    "# Answers and Comments\n",
    "---\n",
    "\n",
    "Expand cells (click on left margin) to see answers and any comments.\n"
   ]
  },
  {
   "cell_type": "markdown",
   "metadata": {},
   "source": [
    "Q1 answer"
   ]
  },
  {
   "cell_type": "code",
   "execution_count": null,
   "metadata": {
    "jupyter": {
     "source_hidden": true
    },
    "tags": []
   },
   "outputs": [],
   "source": [
    "# Q1 answer\n",
    "\n",
    "# The answer is not unique. Shown here is just one exmaple. \n",
    "# Perhaps a better title could be given.\n",
    "\n",
    "# generate arrays for plotting\n",
    "x = np.linspace(-10,10,101)\n",
    "y = x/(1+x**2)\n",
    "\n",
    "# plot graph and label it\n",
    "plt.plot(x,y, '--g', lw=3)\n",
    "plt.xlabel('x', fontsize=14)\n",
    "plt.ylabel('f(x)', fontsize=14)\n",
    "plt.title('graph of function', fontsize=14)\n",
    "plt.grid(True)\n",
    "\n",
    "plt.show()"
   ]
  },
  {
   "cell_type": "markdown",
   "metadata": {},
   "source": [
    "Q2 answer"
   ]
  },
  {
   "cell_type": "code",
   "execution_count": null,
   "metadata": {
    "jupyter": {
     "source_hidden": true
    },
    "tags": []
   },
   "outputs": [],
   "source": [
    "# Q2 answer\n",
    "\n",
    "# The answers are not unique. Perhaps better titles could be given.\n",
    "\n",
    "# generate arrays for plotting\n",
    "\n",
    "t = np.linspace(0,2*np.pi,101)\n",
    "z = np.sin(t + np.pi/8.)\n",
    "w = np.exp(-t)*np.cos(t)\n",
    "\n",
    "# plot graph and label it\n",
    "plt.plot(t, z, 'r', lw=3)\n",
    "plt.xlabel('x', fontsize=14)\n",
    "plt.ylabel('f(x)', fontsize=14)\n",
    "plt.title('graph of a function', fontsize=14)\n",
    "plt.show()\n",
    "\n",
    "# plot graph and label it\n",
    "plt.plot(t, w, 'b', lw=3)\n",
    "plt.xlabel('x', fontsize=14)\n",
    "plt.ylabel('f(x)', fontsize=14)\n",
    "plt.title('graph of function', fontsize=14)\n",
    "plt.show()\n"
   ]
  },
  {
   "cell_type": "markdown",
   "metadata": {},
   "source": [
    "Q3 answer"
   ]
  },
  {
   "cell_type": "code",
   "execution_count": null,
   "metadata": {
    "jupyter": {
     "source_hidden": true
    },
    "tags": []
   },
   "outputs": [],
   "source": [
    "# Q3 answer\n",
    "\n",
    "# set N, there will be N+1 terms in the approximation\n",
    "# and set the range of x\n",
    "N = 4\n",
    "x = np.linspace(-4,4,101)\n",
    "\n",
    "# compute the approximation for all x simultaneously\n",
    "total = 0 * x\n",
    "for k in range(N+1):\n",
    "    total += x**k/np.math.factorial(k)\n",
    "\n",
    "# generate the exact exponential\n",
    "y = np.exp(x)\n",
    "\n",
    "# plot the results\n",
    "plt.plot(x,total, '--', label=\"approx\")\n",
    "plt.plot(x,y, label='true')\n",
    "\n",
    "# plt.semilogy(x,total, '--', label=\"approx\")\n",
    "# plt.semilogy(x,y, label='true')\n",
    "\n",
    "plt.xlabel('x', fontsize=14)\n",
    "plt.title('exp(x) and its approximation', fontsize=14)\n",
    "plt.legend(fontsize=14)\n",
    "plt.show()"
   ]
  },
  {
   "cell_type": "markdown",
   "metadata": {},
   "source": [
    "Q4a answer"
   ]
  },
  {
   "cell_type": "code",
   "execution_count": null,
   "metadata": {
    "jupyter": {
     "source_hidden": true
    },
    "tags": []
   },
   "outputs": [],
   "source": [
    "# Q4a answer\n",
    "\n",
    "# a\n",
    "# R is the auxiliary variable. \n",
    "t = np.linspace(0,2*np.pi,101)\n",
    "R = 2 + np.cos(3*t)\n",
    "x = R * np.cos(2*t)\n",
    "y = R * np.sin(2*t)\n",
    "\n",
    "plt.figure(figsize=(4,4))\n",
    "plt.plot(x,y)\n",
    "plt.xlabel(\"x\")\n",
    "plt.ylabel(\"y\")\n",
    "plt.show()\n",
    "\n",
    "# These are quick checks of the previous work. \n",
    "# Generally for quick checks we don't put a lot of effort into labelling or titling\n",
    "# for assignments, you would want to put a title"
   ]
  },
  {
   "cell_type": "markdown",
   "metadata": {},
   "source": [
    "Q4b answer"
   ]
  },
  {
   "cell_type": "code",
   "execution_count": null,
   "metadata": {
    "jupyter": {
     "source_hidden": true
    },
    "tags": []
   },
   "outputs": [],
   "source": [
    "# Q4b answer Helix\n",
    "\n",
    "R = 1\n",
    "kappa = 1/4\n",
    "t = np.linspace(0,4*np.pi,101)\n",
    "x = R * np.cos(t)\n",
    "y = R * np.sin(t)\n",
    "z = kappa * t\n",
    "\n",
    "plt.figure(figsize=(4,4))\n",
    "plt.plot(x,y)\n",
    "plt.xlabel(\"x\")\n",
    "plt.ylabel(\"y\")\n",
    "plt.show()\n",
    "\n",
    "plt.figure(figsize=(4,4))\n",
    "plt.plot(x,z)\n",
    "plt.xlabel(\"x\")\n",
    "plt.ylabel(\"z\")\n",
    "plt.show()\n",
    "\n",
    "plt.figure(figsize=(4,4))\n",
    "plt.plot(y,z)\n",
    "plt.xlabel(\"y\")\n",
    "plt.ylabel(\"z\")\n",
    "plt.show()\n",
    "\n",
    "# These are quick checks of the previous work. \n",
    "# Generally for quick checks we don't put a lot of effort into labelling etc.\n",
    "# For assignements, you would want to label these more fully"
   ]
  },
  {
   "cell_type": "markdown",
   "metadata": {},
   "source": [
    "---\n",
    "\n",
    "Copyright (C) 2021-2022 Dwight Barkley"
   ]
  }
 ],
 "metadata": {
  "kernelspec": {
   "display_name": "Python 3 (ipykernel)",
   "language": "python",
   "name": "python3"
  },
  "language_info": {
   "codemirror_mode": {
    "name": "ipython",
    "version": 3
   },
   "file_extension": ".py",
   "mimetype": "text/x-python",
   "name": "python",
   "nbconvert_exporter": "python",
   "pygments_lexer": "ipython3",
   "version": "3.9.7"
  }
 },
 "nbformat": 4,
 "nbformat_minor": 4
}
