{
 "cells": [
  {
   "cell_type": "markdown",
   "metadata": {},
   "source": [
    "# Libraries\n",
    "\n",
    "The main way we will use functions is not by writing our own, but by calling functions from one of the standard libraries. One of the great strengths of Python is the very large number of libraries provided by the community. \n",
    "\n",
    "Three libraries, **NumPy**, **Matplotlib** and **SciPy**, form the backbone of mathematical and scientific computing in Python.\n",
    "\n",
    "- [Numpy](https://numpy.org/): numerical computing with powerful numerical arrays objects, and routines to manipulate them. \n",
    "- [Matplotlib](https://matplotlib.org/): a comprehensive library for creating static, animated, and interactive visualisations.\n",
    "- [SciPy](https://www.scipy.org/): high-level numerical routines. Optimisation, regression, interpolation, etc.\n",
    "\n",
    "Later in the module we will also use the [pandas](https://pandas.pydata.org/), [seaborn](https://seaborn.pydata.org/)\n",
    "and [scikit-learn](https://scikit-learn.org). (You are going to like these.)\n",
    "\n",
    "---\n",
    "\n",
    "## Importing Libraries\n",
    "\n",
    "To use these libraries, we must first import them. "
   ]
  },
  {
   "cell_type": "code",
   "execution_count": null,
   "metadata": {},
   "outputs": [],
   "source": [
    "import numpy               # import the numpy library "
   ]
  },
  {
   "cell_type": "markdown",
   "metadata": {},
   "source": [
    "Functions in the library then become available via `numpy.function_name()`"
   ]
  },
  {
   "cell_type": "code",
   "execution_count": null,
   "metadata": {},
   "outputs": [],
   "source": [
    "print(\"pi is\", numpy.pi)                             # numpy also has an accurate value of pi\n",
    "print(\"cos(pi) is\", numpy.cos(numpy.pi))             # calls the numpy cos function\n",
    "print(\"arctan(1)/pi is\", numpy.arctan(1.0)/numpy.pi) # call the numpy arctan function"
   ]
  },
  {
   "cell_type": "markdown",
   "metadata": {},
   "source": [
    "In practice, we always alias `numpy` to the shorter `np` as follows"
   ]
  },
  {
   "cell_type": "code",
   "execution_count": null,
   "metadata": {},
   "outputs": [],
   "source": [
    "import numpy as np         # import the numpy library and alias it to np (shorter than numpy)"
   ]
  },
  {
   "cell_type": "code",
   "execution_count": null,
   "metadata": {},
   "outputs": [],
   "source": [
    "# The above then shortens to:\n",
    "print(\"pi is\", np.pi)                \n",
    "print(\"cos(pi) is\", np.cos(np.pi))        \n",
    "print(\"arctan(1)/pi is\", np.arctan(1.0)/np.pi) "
   ]
  },
  {
   "cell_type": "markdown",
   "metadata": {
    "tags": []
   },
   "source": [
    "---\n",
    "\n",
    "Sometimes we will not want to import a whole library. In such cases we use the `from library import something` construction, as explained in later weeks. \n",
    "\n",
    "\n",
    "The terms **Modules**, **Packages** and **Libraries** all refer to collections of functions, and possibly other structures, designed to perform a set of related tasks. The difference between the these is not important to us, but if you are interested the difference is compactly explained [here](https://www.geeksforgeeks.org/what-is-the-difference-between-pythons-module-package-and-library/).\n",
    "\n",
    "---\n",
    "\n",
    "**Exercise:** In the cell below, use `shift+tab` methods to view the docstring for the cosine and arctangent functions. (Recall, you click within the function and hit `shift+tab` on the keyboard.) Guess some other functions and see if you can get docstring information on them."
   ]
  },
  {
   "cell_type": "code",
   "execution_count": null,
   "metadata": {},
   "outputs": [],
   "source": [
    "np.cos\n",
    "np.arctan"
   ]
  },
  {
   "cell_type": "markdown",
   "metadata": {},
   "source": [
    "---\n",
    "\n",
    "Copyright (C) 2021-2022 Dwight Barkley"
   ]
  }
 ],
 "metadata": {
  "kernelspec": {
   "display_name": "Python 3 (ipykernel)",
   "language": "python",
   "name": "python3"
  },
  "language_info": {
   "codemirror_mode": {
    "name": "ipython",
    "version": 3
   },
   "file_extension": ".py",
   "mimetype": "text/x-python",
   "name": "python",
   "nbconvert_exporter": "python",
   "pygments_lexer": "ipython3",
   "version": "3.9.7"
  }
 },
 "nbformat": 4,
 "nbformat_minor": 4
}
