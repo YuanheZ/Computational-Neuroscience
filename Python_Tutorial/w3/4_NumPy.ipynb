{
 "cells": [
  {
   "cell_type": "markdown",
   "metadata": {},
   "source": [
    "# Introduction to the NumPy (Numerical Python) Library\n",
    "\n",
    "As discussed in the notebook on Libraries, **NumPy**, together with **Matplotlib** and **SciPy**, form the backbone of scientific computing in Python. NumPy is covered in this notebook. Matplotlib is covered in a separate notebook this week. SciPy will be covered later. You may be interested in the [Wikipedia page](https://en.wikipedia.org/wiki/NumPy) and the [NumPy home page](https://numpy.org/).\n",
    "\n",
    "> \"NumPy aims to provide an array object that is up to 50x faster that traditional Python lists.\" -- [w3schools.com](https://www.w3schools.com/python/numpy_intro.asp)\n"
   ]
  },
  {
   "cell_type": "markdown",
   "metadata": {
    "tags": []
   },
   "source": [
    "---\n",
    "## Array creation\n",
    "\n",
    "First to clarity terminology \n",
    "\n",
    "- 1D arrays have one index, as in $(x_0, x_1, \\cdots, x_k, \\cdots, x_{n-1})$, where the index $k$ starts from $0$. Hence, these arrays are the same as vectors and we use either term.\n",
    "\n",
    "- 2D arrays have two indices. These are like matrices with elements $a_{kl}$, the first index corresponding to the row and the second to the column. \n",
    "\n",
    "- In this context, single floating point numbers and complex numbers (and possibly integers) are referred to as scalars. They have no index. \n",
    "\n",
    "One can consider higher-dimensional arrays, but we will not need them, at least not much.\n",
    "\n",
    "In order to use NumPy, you first have to import it. Typically, we do this and give NumPy the alias np:"
   ]
  },
  {
   "cell_type": "code",
   "execution_count": null,
   "metadata": {},
   "outputs": [],
   "source": [
    "import numpy as np"
   ]
  },
  {
   "cell_type": "markdown",
   "metadata": {},
   "source": [
    "(The above line will probably appear in every subsequent notebook you use in this module.)\n",
    "\n",
    "\n",
    "We then can create the common arrays that we will need"
   ]
  },
  {
   "cell_type": "code",
   "execution_count": null,
   "metadata": {},
   "outputs": [],
   "source": [
    "v = np.array([1, 2, 3])               # create vector from a list (we won't use much)\n",
    "w = np.zeros(3)                       # create a vector of length 3 with zeros\n",
    "A = np.zeros((2, 3))                  # create a 2 x 3 matrix full of zeros\n",
    "B = np.ones((3, 4))                   # create a 3 x 4 matrix full of ones \n",
    "Id = np.eye(4)                        # create a 4 x 4 identity matrix\n",
    "\n",
    "print(\"v =\", v, \"\\n\")\n",
    "print(\"w =\", w, \"\\n\")\n",
    "print(\"A =\\n\", A, \"\\n\")\n",
    "print(\"B =\\n\", B, \"\\n\")\n",
    "print(\"Id = \\n\", Id, \"\\n\")\n",
    "\n",
    "# Note \"\\n\" prints an extra newline, used here to provide more readability"
   ]
  },
  {
   "cell_type": "markdown",
   "metadata": {},
   "source": [
    "**Warning:**  If you are creating a vector, then you can just use `np.zeros(vector_length)`,  where `vector_length` is an integer. However, if you are creating an array with more than one dimension, then you need `np.zeros(shape)`, where `shape` is a tuple of integers. Hence we have\n",
    "```\n",
    "A = np.zeros((2, 3))\n",
    "```\n",
    "To make this clear, some people would explicitly use a keyword argument\n",
    "```\n",
    "A = np.zeros(shape=(2, 3))\n",
    "```\n",
    "\n",
    "It is easy to make a mistake of writing\n",
    "```\n",
    "A = np.zeros(2, 3)\n",
    "```\n",
    "\n",
    "**Exercise:** Edit the cell above to change `A = np.zeros((2, 3))` to `A = np.zeros(2, 3)`. Rerun the cell to see the error that is generated. This will be useful to see so that you recognise it later should you make this mistake. Then re-edit cell to restore the correct version, but this time including the keyword `shape =`."
   ]
  },
  {
   "cell_type": "markdown",
   "metadata": {},
   "source": [
    "---\n",
    "It is very common to want to know the shape of an array. This is available using `.shape` as follows "
   ]
  },
  {
   "cell_type": "code",
   "execution_count": null,
   "metadata": {},
   "outputs": [],
   "source": [
    "print(\"shape of v is:\", v.shape)\n",
    "print(\"shape of A:\", A.shape)         "
   ]
  },
  {
   "cell_type": "markdown",
   "metadata": {},
   "source": [
    "**mini-exercise:** What are the shapes of B and Id defined above? Edit the above cell to print these shapes and verify your answer.\n",
    "\n",
    "---\n",
    "Use .ndim to determine the number of dimensions for an array. "
   ]
  },
  {
   "cell_type": "code",
   "execution_count": null,
   "metadata": {},
   "outputs": [],
   "source": [
    "print(\"vector v has dimension\", v.ndim)\n",
    "print(\"matrix A has dimension\", A.ndim)"
   ]
  },
  {
   "cell_type": "markdown",
   "metadata": {},
   "source": [
    "All NumPy arrays have the same type `numpy.ndarray` independent of dimension"
   ]
  },
  {
   "cell_type": "code",
   "execution_count": null,
   "metadata": {},
   "outputs": [],
   "source": [
    "print(\"vector v has type\", type(v))\n",
    "print(\"matrix A has type\", type(A))"
   ]
  },
  {
   "cell_type": "markdown",
   "metadata": {
    "tags": []
   },
   "source": [
    "---\n",
    "> Pro tip: If you are ever uncertain about the number of elements in your arrays, print their shapes!\n",
    "\n",
    "---\n",
    "### regular arrays\n",
    "\n",
    "We will often be interested in regular arrays of numbers. There are two standard ways to create such arrays. Use\n",
    "\n",
    "- `np.arange` if you want a sequence of numbers with a specified `step`. The number of elements in the array is determined by `start`, `stop` and `step`.  Just as for the range type, **stop will not be included in the array**."
   ]
  },
  {
   "cell_type": "code",
   "execution_count": null,
   "metadata": {},
   "outputs": [],
   "source": [
    "a = np.arange(0, 10, 2)   # we want a simple step of 2\n",
    "print(a)"
   ]
  },
  {
   "cell_type": "markdown",
   "metadata": {},
   "source": [
    "- `np.linspace` if you want an array of numbers with a specified number of elements. The `step` is determined by `start`, `stop` and the number of elements. **stop will be included in the array**."
   ]
  },
  {
   "cell_type": "code",
   "execution_count": null,
   "metadata": {},
   "outputs": [],
   "source": [
    "b = np.linspace(0, np.pi, 10)   # we want 10 elements, including both 0 and pi\n",
    "print(b)"
   ]
  },
  {
   "cell_type": "markdown",
   "metadata": {},
   "source": [
    "Note how with `np.linspace` this situation is easy. It would be more awkward with `np.arange` since `step` is not a simple value. \n",
    "\n",
    "`np.linspace` can also return the step between elements"
   ]
  },
  {
   "cell_type": "code",
   "execution_count": null,
   "metadata": {},
   "outputs": [],
   "source": [
    "b, step = np.linspace(0, np.pi, 10, retstep=True)\n",
    "print(\"step = \", step)"
   ]
  },
  {
   "cell_type": "markdown",
   "metadata": {},
   "source": [
    "---\n",
    "\n",
    "**Review question:** Thinking back to what you learned about function arguments, what can you say about the argument `retstep` in the function `np.linspace()`? \n",
    "\n",
    "Expand cell below to see answer."
   ]
  },
  {
   "cell_type": "markdown",
   "metadata": {
    "tags": []
   },
   "source": [
    "`retstep` is a keyword argument because we can specify its value with a keywork. In addition, it is of type Boolean (remember those?), and it has a default value `False`. You can deduce this from that fact that if you do not include it, `step` is not returned."
   ]
  },
  {
   "cell_type": "markdown",
   "metadata": {},
   "source": [
    "---\n",
    "## Demonstration matrix\n",
    "\n",
    "Above we saw how to create matrices with zeros, ones, or the identity. It is useful to have a matrix with less trivial values for demonstrations. A common, useful example is illustrated in the next cell."
   ]
  },
  {
   "cell_type": "code",
   "execution_count": null,
   "metadata": {},
   "outputs": [],
   "source": [
    "# Create a 3x4 matrix\n",
    "A = np.arange(0,12).reshape(3,4)\n",
    "print(A)"
   ]
  },
  {
   "cell_type": "markdown",
   "metadata": {},
   "source": [
    "You can see what is happening. `np.arange` is used to generate an array of values 0 through 11. The `.reshape(3,4)` reshapes that linear array into a rectangular array, i.e. a matrix. \n",
    "\n",
    "You will see `.reshape()` in many Python examples on the internet. In this module we will use it primarily for generating demonstration matrices, so you need not worry about it. When needed, we will remind you."
   ]
  },
  {
   "cell_type": "markdown",
   "metadata": {},
   "source": [
    "---\n",
    "## Indexing and slicing arrays\n",
    "\n",
    "You access individual elements using square brackets `[ ]`. Recall that we also used square brackets for accessing elements of lists and strings. Indices always start at 0. You can use slicing to obtain portions of arrays. \n",
    "\n",
    "Think about what the output of the cell below will be before running the cell. Then run the cell to confirm. "
   ]
  },
  {
   "cell_type": "code",
   "execution_count": null,
   "metadata": {},
   "outputs": [],
   "source": [
    "v = np.arange(0,12)\n",
    "print(v)\n",
    "print(v[3])\n",
    "print(v[-1])\n",
    "print(v[0::2])"
   ]
  },
  {
   "cell_type": "markdown",
   "metadata": {},
   "source": [
    "If you did not get this correct, you may need to review slicing. In particular, recall how to access the last element. \n",
    "\n",
    "**Exercise:** Edit the cell above to print all the elements of v with odd index. Edit the cell to print all the elements of v in reverse order.\n",
    "\n",
    "---\n",
    "\n",
    "For two-dimensional arrays (matrices) the comma `,` separates the two indices (the rows and columns). The way to think about the notation is: \n",
    "\n",
    "`A[ slicing rule , other slicing rule ]`\n",
    "\n",
    "where both are any allowable slicing rule. "
   ]
  },
  {
   "cell_type": "markdown",
   "metadata": {},
   "source": [
    "---\n",
    "\n",
    "Think about what the output for each cells below will be before running the cell. Then run to confirm."
   ]
  },
  {
   "cell_type": "code",
   "execution_count": null,
   "metadata": {},
   "outputs": [],
   "source": [
    "A = np.arange(0,12).reshape(3,4)               # demonstration matrix\n",
    "print(A, \"\\n\")\n",
    "\n",
    "# Indexing individual elements\n",
    "print(A[0, 0])\n",
    "print(A[1, 2])\n",
    "print()"
   ]
  },
  {
   "cell_type": "code",
   "execution_count": null,
   "metadata": {},
   "outputs": [],
   "source": [
    "# Slicing to obtain rows or columns\n",
    "print(A[0,:])\n",
    "print(A[-1,:])\n",
    "print(A[:,1])\n",
    "print()"
   ]
  },
  {
   "cell_type": "code",
   "execution_count": null,
   "metadata": {},
   "outputs": [],
   "source": [
    "# submatrix of the matrix \n",
    "print(A[0:2, 0:2], \"\\n\")"
   ]
  },
  {
   "cell_type": "markdown",
   "metadata": {},
   "source": [
    "(Unfortunately, the column of `A` with values `1 5 9` is printed in the form of a row. There are ways to address this, but they are more troublesome than they are worth for what we need.)  \n",
    "\n",
    "We will only rarely need anything more complicated than what is shown above, but you need to be able to read and work with slicing. You should definitely be able to reference things like first row, all columns, last row all columns etc. \n",
    "\n",
    "As always, printing is your friend. "
   ]
  },
  {
   "cell_type": "markdown",
   "metadata": {},
   "source": [
    "---\n",
    "## Standard operations with arrays\n",
    "\n",
    "The rule is that when you operate on arrays, the operation applies to all elements, one after the other. This is known as acting **elementwise**. "
   ]
  },
  {
   "cell_type": "code",
   "execution_count": null,
   "metadata": {},
   "outputs": [],
   "source": [
    "a = np.arange(7)\n",
    "print(\"a is\", a)\n",
    "print(\"the double of each element of a is\", 2 * a)\n",
    "print(\"the square of each element of a is\", a**2)\n",
    "\n",
    "b = np.array([1, 2, 3])\n",
    "c = np.array([2, 1, 4])\n",
    "\n",
    "print(\"b is\", b)\n",
    "print(\"c is\", c)\n",
    "print(\"b + c is\", b + c)\n",
    "print(\"b * c is\", b * c)"
   ]
  },
  {
   "cell_type": "markdown",
   "metadata": {},
   "source": [
    "**Exercise:** Insert a line in the cell above in which you print 2 to the power a. Insert a line in the cell above in which you print b to the power c. Make certain that you understand all the output from the cell above and therefore what *elementwise* operations are. You must understand this before going on. "
   ]
  },
  {
   "cell_type": "markdown",
   "metadata": {},
   "source": [
    "---\n",
    "## NumPy mathematical functions\n",
    "\n",
    "The NumPy library includes all the basic [mathematical functions](https://numpy.org/doc/stable/reference/routines.math.html) you would want: e.g., $\\cos, \\sin, \\log, \\exp, \\sqrt{~} ~,$ etc. These functions act elementwise on numpy arrays. Recall that NumPy also provides an accurate approximation to $\\pi$ via `np.pi`.\n"
   ]
  },
  {
   "cell_type": "code",
   "execution_count": null,
   "metadata": {},
   "outputs": [],
   "source": [
    "# generate a regular array of points between 0 and 4\n",
    "x = np.linspace(0, 4, 101)\n",
    "\n",
    "# generate arrays by calling functions on those x values\n",
    "p = x**2\n",
    "q = np.sqrt(x)\n",
    "y = np.exp(x)\n",
    "w = np.log(y)\n",
    "\n",
    "# generate a regular array of points between 0 and 2pi\n",
    "t = np.linspace(0, 2*np.pi, 101) \n",
    "\n",
    "# generate array cos(t)\n",
    "f = np.cos(t)                      "
   ]
  },
  {
   "cell_type": "markdown",
   "metadata": {},
   "source": [
    "---\n",
    "\n",
    "Mostly you can guess the names of standard mathematical functions and you will be correct. If needed, you can check by following the link above or Googling. You do not want to print arrays with 101 values, but you will plot them when you get to Matplotlib in the next notebook."
   ]
  },
  {
   "cell_type": "markdown",
   "metadata": {},
   "source": [
    "---\n",
    "## Short list of useful NumPy functions other than standard maths functions\n",
    "\n",
    "- `np.mean(a)` computes the arithmetic mean of the elements of `a`.\n",
    "- `np.maximum(x1, x2)` elementwise maximum of `x1` and `x2`.  \n",
    "- `np.minimum(x1, x2)` elementwise minimum of `x1` and `x2`.  \n",
    "- `np.amax(a)` returns the maximum element of the array `a`.\n",
    "- `np.amin(a)` returns the minimum element of the array `a`. \n",
    "- `np.linalg.norm(x)` computes the length (norm) of a vector. \n",
    "\n",
    "Note there is a difference between `np.maximum` and `np.amax` and between `np.minimum` and `np.amin`\n",
    "You can read details in the NumPy documentation: [np.maximum](https://numpy.org/doc/stable/reference/generated/numpy.maximum.html)\n",
    "and [np.amax](https://numpy.org/doc/stable/reference/generated/numpy.amax.html)\n",
    "\n",
    "Examples will be given and discussed later as needed."
   ]
  },
  {
   "cell_type": "markdown",
   "metadata": {},
   "source": [
    "---\n",
    "## Vector dot product and matrix product\n",
    "\n",
    "There are ways to compute the \n",
    "dot product between 1D arrays as though they are vectors, or \n",
    "to multiply 2D arrays as though they are matrices.\n",
    "\n",
    "These types of operations can dominate many numerical schemes. We will not have any need for these initially. You should be aware that they exist. We will return to these as needed."
   ]
  },
  {
   "cell_type": "markdown",
   "metadata": {},
   "source": [
    "---\n",
    "## Copying arrays: a warning\n",
    "\n",
    "If you want to copy an array, you should use `.copy()`\n",
    "\n",
    "```\n",
    "a = np.array([1,2,3])\n",
    "b = a.copy()\n",
    "```\n",
    "\n",
    "If you just try assignment `b = a`, `b` will not be a full, independent copy of `a`. \n"
   ]
  },
  {
   "cell_type": "code",
   "execution_count": null,
   "metadata": {},
   "outputs": [],
   "source": [
    "a = np.array([1, 2, 3])\n",
    "\n",
    "# assign b the value of a:\n",
    "b = a\n",
    "print(a, b)\n",
    "\n",
    "# changing a will change b also\n",
    "a[1] = 0\n",
    "print(a, b, \"\\n\")\n",
    "\n",
    "# use .copy to get a true copy\n",
    "b = a.copy()\n",
    "print(a, b)\n",
    "a[1] = 2\n",
    "print(a, b)"
   ]
  },
  {
   "cell_type": "markdown",
   "metadata": {},
   "source": [
    "You might think this would lead to lots of difficulties for us, but in fact it does not, at least I hope. We may come back to this."
   ]
  },
  {
   "cell_type": "markdown",
   "metadata": {},
   "source": [
    "---\n",
    "\n",
    "## The Zero Trick\n",
    "\n",
    "(I just made up this name so do not try to search for it.) Suppose we have an np.array `c` and we want another np.array `d` of the same size but initialised to zero. We could use\n",
    "```\n",
    "d = np.zeros(c.shape)\n",
    "```\n",
    "\n",
    "Another method is to simply use\n",
    "```\n",
    "d = 0 * c\n",
    "```\n",
    "Not only is this form simpler, it has the advantage that the same code will execute if c is an np.array or a float. If you try to use `c.shape` with `c` a float, Python will give an error.\n",
    "\n",
    "Another common situation is that we want `d` to be the same size as `c`, but a constant, say 4. Using the *Zero Trick* we achieve this via\n",
    "```\n",
    "d = 4 + 0 * c\n",
    "```\n",
    "This is much simpler than using `np.zeros`. \n",
    "\n",
    "**This occurs more frequently than you might think. You certainly are going to need it!**"
   ]
  },
  {
   "cell_type": "markdown",
   "metadata": {},
   "source": [
    "---\n",
    "\n",
    "# Review and further study\n",
    "\n",
    "There is a lot of important material in this notebook, ... and there is a great deal more to NumPy. You simply need to start using it and the most common parts will become second nature. You will need to look things up as needed. That's expected. That's how NumPy is meant to be used. No normal person memorises all the [mathematical functions](https://numpy.org/doc/stable/reference/routines.math.html), let alone all the [NumPy routines](https://numpy.org/doc/stable/reference/routines.html).\n",
    "\n",
    "A recent [Nature paper](https://www.nature.com/articles/s41586-020-2649-2) provides a nice overview of NumPy and its role in a broad range of scientific computations.\n",
    "\n",
    "You will need to look things up in NumPy. We will give you some beginning practice in the exercises. In our experience, the fastest method to obtain what you want is via web search, e.g. searching `python numpy np.linspace` or even just `np.linspace` will immediately take you to the documentation you want. Maybe even try this now. The documentation may appear intimidating at first, but you do not need to understand everything.\n",
    "\n",
    "As always, [w3shools](https://www.w3schools.com/python/numpy_intro.asp) also covers NumPy. We recommend using it for reinforcement as necessary after attempting the exercises below.\n"
   ]
  },
  {
   "cell_type": "markdown",
   "metadata": {},
   "source": [
    "---\n",
    "# Exercises\n",
    "\n",
    "Create a code cell below each question to write your answer. \n",
    "\n",
    "---\n",
    "\n",
    "### Array Basics\n",
    "\n",
    "1. Create the following arrays using NumPy and check your results with print statements. Choose your own variable names.\n",
    "\n",
    "- a zero vector of length 10 \n",
    "- a vector with entries $2, 3, 4, \\cdots, 12$ using `np.arange()`.\n",
    "- from the previous vector, a vector with entries $2^2, 2^3, 2^4, \\cdots, 2^{12}$. (Hint: you did something similar already in this notebook.)\n",
    "- similarly, a vector with entries $10^2, 10^3, 10^4, \\cdots, 10^{12}$\n",
    "- a zero matrix of size 3 x 4\n",
    "- a 5x5 identity matrix\n",
    "- a three-dimensional zero array of shape (5, 7, 4). Do not print the array but print the array shape and number of dimensions."
   ]
  },
  {
   "cell_type": "markdown",
   "metadata": {},
   "source": [
    "---\n",
    "2. Use `np.linspace()` to create the following arrays. You do not need to print the full arrays, but you should check by printing at least a portion of the arrays.\n",
    "\n",
    "- 5 equally spaced points from 0 to 1.\n",
    "- 21 equally spaced points from 0 to $2\\pi$.\n",
    "- 100 equally spaced points from 0 to 100. Return also the step size and print it. \n",
    "- 101 equally spaced points from 0 to 100. Return also the step size and print it. (You see why I usually pick an odd number of points when using `np.linspace`.)\n",
    "\n",
    "This would be a good opportunity to look again at the NumPy documentation on `linspace`. See that `step` is an optional return. "
   ]
  },
  {
   "cell_type": "markdown",
   "metadata": {},
   "source": [
    "---\n",
    "### Arithmetic operators and math functions \n",
    "\n",
    "\n",
    "3. In order, generate the following arrays\n",
    "\n",
    "- `x` the vector of length 101 with equally spaced values from -10 to 10.\n",
    "- `y` the vector given elementwise by `x/(1+x**2)`. \n",
    "\n",
    "You should think of this as a discrete version of $y=f(x)$, where $f(x) = 1/(1+x^2)$.\n",
    "\n",
    "- `t` the vector of length 101 with equally spaced values from $0$ to $2 \\pi$.\n",
    "- `z` the vector given elementwise by the function $\\sin(t+\\pi/8)$ \n",
    "- `w` the vector given elementwise by the function $e^{-t} \\cos(t)$ \n",
    "\n",
    "After doing the Matplotlib exercises in the next notebook you will be able plot such arrays. This is the best way to check your work, but you can also print a few values if you want."
   ]
  },
  {
   "cell_type": "markdown",
   "metadata": {},
   "source": [
    "---\n",
    "\n",
    "4. Consider the approximation to $\\exp(x)$ given by\n",
    "\n",
    "$$\n",
    "e^x \\simeq 1 + x + \\frac{x^2}{2!} + \\frac{x^3}{3!} + \\frac{x^N}{N!} = \\sum_{k=0}^N \\frac{x^k}{k!} \n",
    "$$\n",
    "\n",
    "Generate a vector `x` of length 101 with equally spaced values from -4 to 4. Set a value of `N`.  Write a `for loop` to approximate $e^x$ for all these values. You will need to search for the NumPy function for factorial. Because NumPy arithmetic operators work elementwise, the computations will look no different than if you were evaluating $e^x$ for a single float. \n",
    "\n",
    "Hint: you cannot initialise a variable `total` to zero as we did in the first Python code where we computed an approximation to $\\pi$. Use the *Zero Trick*.\n",
    "\n",
    "In the Matplotlib notebook you will plot this approximation."
   ]
  },
  {
   "cell_type": "markdown",
   "metadata": {},
   "source": [
    "---\n",
    "### Parameterised curves\n",
    "\n",
    "5. We now have exactly what we need to generate parameterised curves. \n",
    "\n",
    "a) In Geometry and Motion you were given the parameterised curves such as\n",
    "\n",
    "$$\n",
    "{\\bf r}(t) =(2 + \\cos(3t))\\, \\cos(2t){\\bf i}+(2 + \\cos(3t))\\,\\sin(2t){\\bf j}, \n",
    "\\quad t \\in [0,2\\pi]\n",
    "$$\n",
    "\n",
    "which can be written in component form as:\n",
    "\n",
    "$$\n",
    "x(t) = (2 + \\cos(3t)) \\cos(2t) \\quad\n",
    "y(t) = (2 + \\cos(3t)) \\sin(2t), \\quad t \\in [0,2\\pi]\n",
    "$$\n",
    "\n",
    "\n",
    "Write Python code to generate an np.array for t. (I suggest 101 values.) Then generate x and y. (Hint: I suggest using an auxiliary variable so that you do not repeat computations for x and y. If that makes sense, do it. If not, look at the answer below after you have answered the question.) \n",
    "\n",
    "b) A helix can be parameterised by \n",
    "\n",
    "$$\n",
    "x(t) = R \\cos(t) \\quad\n",
    "y(t) = R \\sin(t), \\quad\n",
    "z(t) = \\kappa t, \\quad t \\in [0,4\\pi],\n",
    "$$\n",
    "\n",
    "where $R$ and $k$ are parameters. Write Python code to generate an np.array for t, and from t generate x, y and z in the case $R = 1$, $\\kappa = 1/4$.\n",
    "\n",
    "c) The following is a parameterisation of a semicircle in $\\mathbb R^3$\n",
    "\n",
    "$$\n",
    "x(t) = 4 \\quad\n",
    "y(t) = R \\sin(t), \\quad\n",
    "z(t) = R(1 + \\cos(t)), \\quad t \\in [0,\\pi],\n",
    "$$\n",
    "\n",
    "where $R$ is a parameter. Write Python code to generate an np.array for t, and from t generate x, y and z in the case $R = 2$. Note, you need $x$ to be an np.array of the same length as the other arrays. You will need the *Zero Trick*. (Never forget the Zero Trick!)\n",
    "\n",
    "In the Matplotlib notebook you will plot these curves. "
   ]
  },
  {
   "cell_type": "markdown",
   "metadata": {},
   "source": [
    "---\n",
    "# Answers and Comments\n",
    "---\n",
    "\n",
    "Expand cells (click on left margin) to see answers and any comments.\n"
   ]
  },
  {
   "cell_type": "markdown",
   "metadata": {},
   "source": [
    "Q1 answer"
   ]
  },
  {
   "cell_type": "code",
   "execution_count": null,
   "metadata": {
    "jupyter": {
     "source_hidden": true
    },
    "tags": []
   },
   "outputs": [],
   "source": [
    "# Q1 answer\n",
    "\n",
    "# I include extra lines produced by \"\\n\" for readability \n",
    "\n",
    "v1 = np.zeros(10)\n",
    "print(v1, \"\\n\")\n",
    "\n",
    "v2 = np.arange(2,13)\n",
    "print(v2, \"\\n\")\n",
    "\n",
    "v3 = 2**v2\n",
    "print(v3, \"\\n\")\n",
    "\n",
    "v4 = 10**v2\n",
    "print(v4, \"\\n\")\n",
    "\n",
    "A1 = np.zeros(shape=(3,4))\n",
    "print(A1, \"\\n\")\n",
    "\n",
    "A2 = np.eye(5)\n",
    "print(A2, \"\\n\")\n",
    "\n",
    "T1 = np.zeros(shape=(5,7,4))\n",
    "print(T1.shape)\n",
    "print(T1.ndim)"
   ]
  },
  {
   "cell_type": "markdown",
   "metadata": {},
   "source": [
    "Q2 answer"
   ]
  },
  {
   "cell_type": "code",
   "execution_count": null,
   "metadata": {
    "jupyter": {
     "source_hidden": true
    },
    "tags": []
   },
   "outputs": [],
   "source": [
    "# Q2 answer\n",
    "\n",
    "u1 = np.linspace(0,1,5)\n",
    "print(u1, \"\\n\")\n",
    "\n",
    "u2 = np.linspace(0,2*np.pi,21)\n",
    "print(u2[:3], \"\\n\")\n",
    "\n",
    "u3, step3 = np.linspace(0,100,100, retstep=True)\n",
    "print(u3[:3], step3, \"\\n\")\n",
    "\n",
    "u4, step4 = np.linspace(0,100,101, retstep=True)\n",
    "print(u4[:3], step4, \"\\n\")\n"
   ]
  },
  {
   "cell_type": "markdown",
   "metadata": {},
   "source": [
    "Q3 answer"
   ]
  },
  {
   "cell_type": "code",
   "execution_count": null,
   "metadata": {
    "jupyter": {
     "source_hidden": true
    },
    "tags": []
   },
   "outputs": [],
   "source": [
    "# Q2 answer\n",
    "\n",
    "x = np.linspace(-10,10,101)\n",
    "y = x/(1+x**2)\n",
    "\n",
    "t = np.linspace(0,2*np.pi,101)\n",
    "z = np.sin(t + np.pi/8.)\n",
    "w = np.exp(-t)*np.cos(t)\n",
    "\n",
    "# what you print is up to you\n",
    "print(y[0], y[50], y[100])\n",
    "print(w[0])"
   ]
  },
  {
   "cell_type": "markdown",
   "metadata": {},
   "source": [
    "Q4 answer"
   ]
  },
  {
   "cell_type": "code",
   "execution_count": null,
   "metadata": {
    "jupyter": {
     "source_hidden": true
    },
    "tags": []
   },
   "outputs": [],
   "source": [
    "# Q4 answer\n",
    "\n",
    "# You hopefully learned that the function `np.math.factorial` computes n!\n",
    "\n",
    "# set N, there will be N+1 terms in the approximation\n",
    "# and set the range of x\n",
    "N = 10\n",
    "x = np.linspace(-4,4,101)\n",
    "\n",
    "# compute the approximation for all x simultaneously\n",
    "total = 0 * x\n",
    "for k in range(N+1):\n",
    "    total += x**k/np.math.factorial(k)\n",
    "\n",
    "# note the use of the Zero Trick above\n",
    "# total will be an np.array necessarily of the same length as x.\n",
    "# make sure you understand that the line total += x**k/np.math.factorial(k)\n",
    "# is evaluated elementwise and this means that the approximation is computed\n",
    "# for all elements of the arrays simultaneously\n",
    "\n",
    "# You were not asked to test, but let's test by printing the last point\n",
    "print(\"exp(4) is approximately\", total[-1], \"and more precisely\", np.exp(4))"
   ]
  },
  {
   "cell_type": "markdown",
   "metadata": {},
   "source": [
    "Q5 answer"
   ]
  },
  {
   "cell_type": "code",
   "execution_count": null,
   "metadata": {
    "jupyter": {
     "source_hidden": true
    },
    "tags": []
   },
   "outputs": [],
   "source": [
    "# Q5 answer\n",
    "\n",
    "# a)\n",
    "# R is the auxiliary variable. \n",
    "t = np.linspace(0,2*np.pi,101)\n",
    "R = 2 + np.cos(3*t)\n",
    "x = R * np.cos(2*t)\n",
    "y = R * np.sin(2*t)\n",
    "\n",
    "# b) Helix\n",
    "# we redefine variables and introduce kappa\n",
    "R = 1\n",
    "kappa = 1/4\n",
    "t = np.linspace(0,4*np.pi,101)\n",
    "x = R * np.cos(t)\n",
    "y = R * np.sin(t)\n",
    "z = kappa * t\n",
    "\n",
    "# b)\n",
    "# we again redefine variables\n",
    "R = 2\n",
    "t = np.linspace(0,np.pi,101)\n",
    "x = 4 + 0*t\n",
    "y = R * np.sin(t)\n",
    "z = R * (1 + np.cos(t))\n",
    "\n",
    "# You see how easy this is and how quickly you will be able to generate\n",
    "# any parameterised curve if you can express it with basic maths functions."
   ]
  },
  {
   "cell_type": "markdown",
   "metadata": {},
   "source": [
    "---\n",
    "\n",
    "Copyright (C) 2021-2022 Dwight Barkley"
   ]
  }
 ],
 "metadata": {
  "kernelspec": {
   "display_name": "Python 3 (ipykernel)",
   "language": "python",
   "name": "python3"
  },
  "language_info": {
   "codemirror_mode": {
    "name": "ipython",
    "version": 3
   },
   "file_extension": ".py",
   "mimetype": "text/x-python",
   "name": "python",
   "nbconvert_exporter": "python",
   "pygments_lexer": "ipython3",
   "version": "3.9.7"
  }
 },
 "nbformat": 4,
 "nbformat_minor": 4
}
